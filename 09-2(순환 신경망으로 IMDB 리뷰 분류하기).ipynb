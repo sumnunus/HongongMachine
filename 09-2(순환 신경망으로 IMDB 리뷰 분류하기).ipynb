{
 "cells": [
  {
   "cell_type": "code",
   "execution_count": 1,
   "id": "2b941cdc-a54b-4d23-91fe-4fc61b21ca03",
   "metadata": {},
   "outputs": [],
   "source": [
    "#IMDB 리뷰 데이터셋을 사용해 가장 간단한 순환 신경망 모델 훈련하기"
   ]
  },
  {
   "cell_type": "markdown",
   "id": "ae2e77e9-05dc-4ad9-9abc-d1568d7ec769",
   "metadata": {},
   "source": [
    "컴퓨터에서 처리하는 모든 것은 어떤 숫자 데이터이다.\n",
    "따라서 텍스트 데이터의 경우 단어를 숫자 데이터로 바꾸는 일반적인 방법은 데이터에 등장하는 단어마다 고유한 정수를 부여하는 것이다."
   ]
  },
  {
   "cell_type": "markdown",
   "id": "2e1188bc-1a6f-40c7-950f-d08cbeeeb553",
   "metadata": {},
   "source": [
    "분리된 단어를 **토큰**이라고 부른다."
   ]
  },
  {
   "cell_type": "markdown",
   "id": "69737578-3676-4e2f-8e14-6d73bf507722",
   "metadata": {},
   "source": [
    "토큰에 할당하는 정수 중에 몇 개는 특정한 용도로 예약되어 있는 경우가 많다"
   ]
  },
  {
   "cell_type": "markdown",
   "id": "a8b36389-eebc-4132-908e-1f7633b12d5d",
   "metadata": {},
   "source": [
    "0은 패딩, 1은 문장의 시작, 2는 어휘 사전에 없는 토큰"
   ]
  },
  {
   "cell_type": "code",
   "execution_count": 9,
   "id": "b977a287-7c2e-499b-a0f5-7567cf9b235f",
   "metadata": {},
   "outputs": [
    {
     "name": "stdout",
     "output_type": "stream",
     "text": [
      "Downloading data from https://storage.googleapis.com/tensorflow/tf-keras-datasets/imdb.npz\n",
      "\u001b[1m17464789/17464789\u001b[0m \u001b[32m━━━━━━━━━━━━━━━━━━━━\u001b[0m\u001b[37m\u001b[0m \u001b[1m1s\u001b[0m 0us/step\n"
     ]
    }
   ],
   "source": [
    "#IMDB 리뷰 데이터셋은 영어로 된 문장이지만 편리하게도 텐서플로에는 이미 정수로 바꾼 데이터가 포함\n",
    "from tensorflow.keras.datasets import imdb #imdb 모듈 임포트\n",
    "(train_input, train_target), (test_input, test_target) = imdb.load_data(num_words=200) #가장 자주 등장하는 단어 200개만 사용"
   ]
  },
  {
   "cell_type": "code",
   "execution_count": 11,
   "id": "afd77cfe-8e8c-433b-a9a6-44893dc5102f",
   "metadata": {},
   "outputs": [
    {
     "name": "stdout",
     "output_type": "stream",
     "text": [
      "(25000,) (25000,)\n"
     ]
    }
   ],
   "source": [
    "print(train_input.shape, test_input.shape)"
   ]
  },
  {
   "cell_type": "markdown",
   "id": "f0448101-a75d-4dd1-a4aa-204c8c52737a",
   "metadata": {},
   "source": [
    "IMDB 리뷰 텍스트는 길이가 제각각이다. \n",
    "\n",
    "\n",
    "따라서 고정 크기의 2차원 배열에 담기 보다는 리뷰마다 별도의 파이썬 리스트로 담아야 메모리를 효율적으로 사용할 수 있다."
   ]
  },
  {
   "cell_type": "code",
   "execution_count": 14,
   "id": "a1e436b2-36d0-45af-9f24-d53bf99ae8a2",
   "metadata": {},
   "outputs": [
    {
     "name": "stdout",
     "output_type": "stream",
     "text": [
      "218\n"
     ]
    }
   ],
   "source": [
    "print(len(train_input[0]))"
   ]
  },
  {
   "cell_type": "code",
   "execution_count": 16,
   "id": "4e16da3a-6d25-40e6-a7ef-d9522981d661",
   "metadata": {},
   "outputs": [],
   "source": [
    "#첫번째 리뷰의 길이는 218개의 토큰으로 이루어져 있다."
   ]
  },
  {
   "cell_type": "code",
   "execution_count": 18,
   "id": "2a029164-3fd2-432d-b0cc-5bd0fefc71cf",
   "metadata": {},
   "outputs": [
    {
     "name": "stdout",
     "output_type": "stream",
     "text": [
      "189\n"
     ]
    }
   ],
   "source": [
    "print(len(train_input[1]))"
   ]
  },
  {
   "cell_type": "code",
   "execution_count": 20,
   "id": "2c29f249-8b47-4fdf-90dc-38d9d809890c",
   "metadata": {},
   "outputs": [
    {
     "name": "stdout",
     "output_type": "stream",
     "text": [
      "[1, 14, 22, 16, 43, 2, 2, 2, 2, 65, 2, 2, 66, 2, 4, 173, 36, 2, 5, 25, 100, 43, 2, 112, 50, 2, 2, 9, 35, 2, 2, 5, 150, 4, 172, 112, 167, 2, 2, 2, 39, 4, 172, 2, 2, 17, 2, 38, 13, 2, 4, 192, 50, 16, 6, 147, 2, 19, 14, 22, 4, 2, 2, 2, 4, 22, 71, 87, 12, 16, 43, 2, 38, 76, 15, 13, 2, 4, 22, 17, 2, 17, 12, 16, 2, 18, 2, 5, 62, 2, 12, 8, 2, 8, 106, 5, 4, 2, 2, 16, 2, 66, 2, 33, 4, 130, 12, 16, 38, 2, 5, 25, 124, 51, 36, 135, 48, 25, 2, 33, 6, 22, 12, 2, 28, 77, 52, 5, 14, 2, 16, 82, 2, 8, 4, 107, 117, 2, 15, 2, 4, 2, 7, 2, 5, 2, 36, 71, 43, 2, 2, 26, 2, 2, 46, 7, 4, 2, 2, 13, 104, 88, 4, 2, 15, 2, 98, 32, 2, 56, 26, 141, 6, 194, 2, 18, 4, 2, 22, 21, 134, 2, 26, 2, 5, 144, 30, 2, 18, 51, 36, 28, 2, 92, 25, 104, 4, 2, 65, 16, 38, 2, 88, 12, 16, 2, 5, 16, 2, 113, 103, 32, 15, 16, 2, 19, 178, 32]\n"
     ]
    }
   ],
   "source": [
    "print(train_input[0])"
   ]
  },
  {
   "cell_type": "markdown",
   "id": "3a8b57dc-5a8d-4414-a329-fb5145b2766a",
   "metadata": {},
   "source": [
    "리뷰 데이터는 이미 정수로 변환되어 있으며, 어휘 사전에는 200개의 단어만 들어가 있기 때문에 어휘 사전에 없는 단어는 2로 표시되어 나타난다."
   ]
  },
  {
   "cell_type": "code",
   "execution_count": 23,
   "id": "917a0952-3b72-495d-88d5-b6e4382a2cd4",
   "metadata": {},
   "outputs": [
    {
     "name": "stdout",
     "output_type": "stream",
     "text": [
      "[list([1, 14, 22, 16, 43, 2, 2, 2, 2, 65, 2, 2, 66, 2, 4, 173, 36, 2, 5, 25, 100, 43, 2, 112, 50, 2, 2, 9, 35, 2, 2, 5, 150, 4, 172, 112, 167, 2, 2, 2, 39, 4, 172, 2, 2, 17, 2, 38, 13, 2, 4, 192, 50, 16, 6, 147, 2, 19, 14, 22, 4, 2, 2, 2, 4, 22, 71, 87, 12, 16, 43, 2, 38, 76, 15, 13, 2, 4, 22, 17, 2, 17, 12, 16, 2, 18, 2, 5, 62, 2, 12, 8, 2, 8, 106, 5, 4, 2, 2, 16, 2, 66, 2, 33, 4, 130, 12, 16, 38, 2, 5, 25, 124, 51, 36, 135, 48, 25, 2, 33, 6, 22, 12, 2, 28, 77, 52, 5, 14, 2, 16, 82, 2, 8, 4, 107, 117, 2, 15, 2, 4, 2, 7, 2, 5, 2, 36, 71, 43, 2, 2, 26, 2, 2, 46, 7, 4, 2, 2, 13, 104, 88, 4, 2, 15, 2, 98, 32, 2, 56, 26, 141, 6, 194, 2, 18, 4, 2, 22, 21, 134, 2, 26, 2, 5, 144, 30, 2, 18, 51, 36, 28, 2, 92, 25, 104, 4, 2, 65, 16, 38, 2, 88, 12, 16, 2, 5, 16, 2, 113, 103, 32, 15, 16, 2, 19, 178, 32])\n",
      " list([1, 194, 2, 194, 2, 78, 2, 5, 6, 2, 2, 2, 134, 26, 4, 2, 8, 118, 2, 14, 2, 20, 13, 119, 2, 189, 102, 5, 2, 110, 2, 21, 14, 69, 188, 8, 30, 23, 7, 4, 2, 126, 93, 4, 114, 9, 2, 2, 5, 2, 4, 116, 9, 35, 2, 4, 2, 9, 2, 2, 4, 118, 9, 4, 130, 2, 19, 4, 2, 5, 89, 29, 2, 46, 37, 4, 2, 9, 45, 43, 38, 2, 2, 2, 4, 2, 26, 2, 5, 163, 11, 2, 2, 4, 2, 9, 194, 2, 7, 2, 2, 2, 2, 148, 2, 2, 2, 15, 123, 125, 68, 2, 2, 15, 2, 165, 2, 98, 5, 4, 2, 9, 43, 2, 2, 15, 2, 120, 5, 120, 174, 11, 2, 175, 136, 50, 9, 2, 2, 2, 5, 2, 2, 2, 2, 5, 4, 2, 131, 152, 2, 18, 2, 32, 2, 2, 14, 9, 6, 2, 78, 22, 2, 64, 2, 9, 8, 168, 145, 23, 4, 2, 15, 16, 4, 2, 5, 28, 6, 52, 154, 2, 33, 89, 78, 2, 16, 145, 95])\n",
      " list([1, 14, 47, 8, 30, 31, 7, 4, 2, 108, 7, 4, 2, 54, 61, 2, 13, 71, 149, 14, 22, 112, 4, 2, 2, 12, 16, 2, 33, 75, 43, 2, 2, 4, 86, 2, 35, 2, 19, 2, 2, 2, 4, 2, 33, 89, 78, 12, 66, 16, 4, 2, 7, 4, 58, 2, 2, 11, 4, 2, 43, 2, 2, 8, 2, 85, 2, 42, 2, 2, 83, 68, 2, 15, 36, 165, 2, 2, 36, 69, 2, 2, 8, 106, 14, 2, 2, 18, 6, 22, 12, 2, 28, 2, 40, 6, 87, 2, 23, 2, 21, 23, 22, 12, 2, 40, 57, 31, 11, 4, 22, 47, 6, 2, 51, 9, 170, 23, 2, 116, 2, 2, 13, 191, 79, 2, 89, 2, 14, 9, 8, 106, 2, 2, 35, 2, 6, 2, 7, 129, 113])\n",
      " list([1, 4, 2, 2, 33, 2, 4, 2, 2, 111, 153, 103, 4, 2, 13, 70, 131, 67, 11, 61, 2, 2, 35, 2, 2, 61, 2, 2, 2, 4, 2, 7, 2, 59, 166, 4, 105, 2, 2, 41, 2, 9, 15, 7, 35, 2, 2, 31, 8, 4, 2, 23, 4, 2, 2, 6, 2, 42, 38, 39, 121, 59, 2, 10, 10, 7, 2, 12, 2, 111, 153, 159, 59, 16, 2, 21, 25, 2, 2, 39, 4, 96, 59, 2, 12, 4, 172, 65, 9, 2, 11, 2, 4, 2, 5, 2, 7, 2, 17, 13, 2, 12, 19, 6, 2, 31, 2, 11, 2, 6, 2, 2, 11, 8, 2, 27, 2, 4, 2, 2, 8, 2, 58, 10, 10, 2, 2, 180, 40, 14, 2, 173, 7, 2, 112, 37, 152, 2, 4, 2, 2, 2, 2, 178, 54, 75, 71, 2, 36, 2, 2, 2, 182, 5, 17, 75, 2, 2, 36, 2, 131, 2, 17, 2, 42, 17, 35, 2, 2, 192, 5, 2, 2, 19, 2, 2, 2, 2, 2, 2, 2, 5, 2, 10, 10, 61, 2, 9, 2, 40, 61, 2, 5, 27, 2, 159, 90, 2, 2, 2, 2, 8, 178, 5, 82, 2, 4, 65, 15, 2, 145, 143, 2, 12, 2, 2, 2, 2, 2, 15, 2, 4, 2, 2, 7, 2, 94, 2, 2, 2, 11, 2, 4, 2, 7, 2, 2, 2, 9, 2, 11, 2, 14, 9, 51, 2, 12, 94, 2, 2, 12, 47, 6, 2, 2, 5, 2, 2, 19, 49, 7, 4, 2, 2, 2, 25, 80, 126, 2, 10, 10, 2, 2, 2, 27, 2, 11, 2, 2, 159, 27, 2, 29, 2, 19, 2, 173, 7, 90, 2, 8, 30, 11, 4, 2, 86, 2, 8, 2, 46, 11, 2, 21, 29, 9, 2, 23, 4, 2, 2, 2, 6, 2, 2, 2, 10, 10, 2, 50, 9, 6, 2, 2, 2, 90, 29, 2, 8, 124, 4, 2, 4, 2, 2, 27, 2, 2, 2, 121, 127, 2, 130, 5, 29, 2, 8, 124, 4, 2, 2, 4, 2, 7, 27, 2, 10, 10, 29, 9, 2, 8, 97, 6, 2, 2, 2, 8, 4, 2, 7, 31, 7, 2, 91, 2, 2, 70, 4, 2, 30, 2, 42, 9, 12, 32, 11, 2, 10, 10, 11, 14, 65, 44, 2, 75, 2, 2, 2, 2, 2, 4, 2, 7, 154, 5, 4, 2, 53, 2, 2, 7, 2, 2, 11, 2, 38, 75, 2, 2, 19, 2, 17, 29, 2, 4, 65, 7, 27, 2, 113, 10, 10, 2, 4, 2, 2, 9, 2, 4, 91, 2, 2, 5, 2, 2, 22, 7, 2, 126, 93, 40, 2, 13, 188, 2, 2, 19, 4, 2, 7, 2, 2, 23, 53, 2, 21, 82, 40, 2, 13, 2, 14, 2, 13, 2, 4, 2, 2, 2, 2, 4, 2, 2, 2, 7, 2, 5, 94, 40, 25, 2, 60, 2, 4, 2, 2, 2, 7, 4, 2, 132, 8, 67, 6, 22, 15, 9, 2, 8, 2, 14, 31, 9, 2, 2, 48, 25, 2, 2, 23, 12, 2, 195, 25, 2, 60, 2, 2, 4, 2, 7, 2, 5, 4, 2, 154, 2, 7, 2, 50, 26, 49, 2, 15, 2, 30, 2, 21, 64, 2])\n",
      " list([1, 2, 2, 7, 61, 113, 10, 10, 13, 2, 14, 20, 56, 33, 2, 18, 2, 88, 13, 2, 2, 45, 2, 13, 70, 79, 49, 2, 2, 13, 16, 2, 2, 2, 2, 96, 143, 4, 22, 32, 2, 7, 61, 2, 71, 2, 5, 13, 16, 131, 2, 2, 114, 2, 2, 2, 20, 13, 28, 126, 110, 13, 2, 8, 2, 61, 2, 56, 2, 6, 2, 18, 35, 2, 95, 2, 2, 5, 25, 124, 138, 88, 12, 2, 2, 52, 2, 2, 61, 2, 11, 13, 2, 15, 2, 20, 11, 4, 2, 5, 2, 12, 2, 5, 15, 2, 128, 74, 2, 2, 2, 126, 2, 12, 2, 2, 2, 2, 7, 2, 5, 2, 2, 43, 8, 79, 120, 15, 2, 13, 2, 25, 2, 18, 165, 170, 143, 19, 14, 5, 2, 6, 2, 2, 7, 61, 113])\n",
      " list([1, 2, 128, 74, 12, 2, 163, 15, 4, 2, 2, 2, 2, 32, 85, 156, 45, 40, 148, 139, 121, 2, 2, 10, 10, 2, 173, 4, 2, 2, 16, 2, 8, 4, 2, 65, 12, 43, 127, 24, 2, 10, 10])\n",
      " list([1, 2, 2, 2, 5, 2, 2, 11, 14, 2, 2, 7, 2, 2, 2, 2, 44, 4, 2, 2, 2, 5, 2, 4, 2, 11, 2, 2, 2, 2, 2, 5, 2, 26, 6, 2, 2, 17, 2, 37, 2, 2, 143, 2, 5, 2, 8, 2, 15, 36, 119, 2, 85, 52, 2, 9, 6, 2, 2, 63, 2, 6, 196, 96, 2, 2, 4, 2, 7, 4, 2, 2, 2, 63, 47, 77, 2, 180, 6, 2, 11, 94, 2, 2, 13, 2, 4, 168, 7, 4, 22, 5, 89, 2, 71, 2, 56, 5, 13, 197, 12, 161, 2, 99, 76, 23, 2, 7, 2, 2, 40, 91, 85, 108, 7, 4, 2, 5, 2, 81, 55, 52, 2])\n",
      " list([1, 4, 2, 2, 4, 65, 7, 4, 2, 2, 2, 2, 2, 2, 2, 2, 2, 2, 2, 2, 2, 2, 4, 2, 2, 2, 37, 9, 150, 4, 2, 2, 11, 2, 4, 2, 2, 2, 6, 176, 2, 9, 2, 138, 9, 2, 19, 4, 96, 183, 26, 4, 192, 15, 27, 2, 2, 2, 2, 2, 84, 11, 4, 2, 152, 2, 2, 42, 2, 2, 2, 2, 2, 2, 142, 43, 2, 2, 54, 29, 2, 2, 46, 4, 2, 183, 80, 115, 30, 4, 172, 174, 10, 10, 2, 2, 2, 2, 2, 34, 2, 2, 2, 2, 17, 4, 2, 2, 2, 64, 85, 22, 2, 2, 38, 2, 9, 4, 2, 2, 2, 2, 2, 195, 2, 14, 16, 31, 7, 4, 2, 8, 2, 2, 33, 4, 2, 103, 2, 2, 42, 2, 45, 2, 11, 2, 19, 184, 76, 32, 4, 2, 2, 110, 13, 197, 4, 2, 16, 2, 2, 2, 2, 13, 2, 4, 2, 66, 2, 55, 2, 4, 2, 2, 65, 2, 8, 2, 61, 2, 42, 2, 61, 2, 120, 45, 2, 6, 2, 2, 99, 196, 2, 2, 2, 4, 2, 4, 2, 2, 33, 4, 130, 63, 69, 72, 2, 46, 2, 2, 14, 66, 194, 2, 2, 56, 8, 2, 2, 6, 2, 155, 11, 4, 2, 2, 45, 2, 2, 8, 30, 6, 117, 2, 19, 6, 2, 9, 15, 66, 2, 8, 2, 178, 9, 15, 66, 2, 8, 2, 178, 9, 15, 66, 142, 15, 9, 2, 8, 28, 178, 2, 44, 12, 17, 4, 130, 2, 2, 9, 6, 2, 2, 185, 2, 4, 118, 2, 2, 15, 4, 2, 100, 2, 56, 19, 4, 2, 114, 2, 2, 45, 115, 93, 2, 121, 4, 2, 79, 32, 68, 2, 39, 8, 2, 162, 2, 2, 2, 7, 98, 2, 8, 157, 2, 2, 11, 6, 2, 13, 2, 15, 2, 76, 42, 138, 36, 2, 77, 2, 159, 150, 4, 2, 2, 8, 2, 11, 175, 2, 2, 19, 2, 189, 12, 43, 127, 6, 2, 2, 7, 2, 4, 107, 8, 4, 2, 15, 2, 2, 9, 2, 42, 2, 6, 66, 78, 22, 15, 13, 2, 2, 8, 135, 2, 52, 44, 10, 10, 2, 112, 2, 2, 34, 4, 2, 2, 2, 2, 2, 57, 2, 133, 2, 6, 2, 7, 2, 2, 6, 171, 139, 7, 2, 2, 56, 11, 6, 2, 21, 164, 25, 2, 81, 33, 2, 2, 19, 6, 2, 7, 2, 2, 6, 2, 4, 22, 9, 2, 2, 2, 45, 188, 6, 55, 2, 2, 2, 2, 2, 2, 2, 42, 2, 2, 6, 2, 2, 2, 2, 21, 4, 2, 9, 2, 23, 4, 2, 2, 2, 24, 76, 133, 18, 4, 189, 2, 10, 10, 2, 11, 2, 11, 2, 14, 47, 15, 2, 2, 2, 168, 44, 12, 45, 24, 2, 93, 21, 2, 2, 4, 116, 34, 35, 2, 8, 72, 177, 9, 164, 8, 2, 2, 44, 13, 191, 135, 13, 126, 2, 2, 18, 2, 10, 10, 4, 2, 2, 4, 2, 2, 7, 112, 199, 2, 2, 39, 63, 12, 115, 2, 2, 8, 15, 35, 2, 2, 65, 57, 2, 6, 2, 2, 2, 37, 25, 92, 2, 6, 2, 44, 25, 28, 6, 22, 15, 122, 24, 2, 72, 33, 32])\n",
      " list([1, 43, 188, 46, 5, 2, 2, 51, 6, 2, 2, 14, 9, 2, 81, 25, 2, 46, 7, 6, 20, 2, 11, 141, 2, 5, 2, 2, 102, 28, 2, 38, 120, 2, 15, 4, 2, 7, 2, 142, 2, 2, 5, 2, 2, 2, 2, 2, 122, 14, 8, 72, 54, 12, 86, 2, 46, 5, 14, 20, 9, 2, 8, 72, 150, 13, 161, 124, 6, 155, 44, 14, 159, 170, 83, 12, 5, 51, 6, 2, 48, 25, 2, 4, 2, 25, 2, 79, 4, 2, 15, 14, 9, 31, 7, 148, 2, 102, 44, 35, 2, 2, 2, 19, 120, 4, 2, 2, 5, 2, 8, 28, 178, 2, 2, 7, 51, 6, 87, 65, 12, 9, 2, 21, 95, 24, 2, 178, 11, 2, 14, 9, 24, 15, 20, 4, 84, 2, 4, 65, 14, 127, 141, 6, 52, 2, 7, 2, 175, 2, 7, 68, 2, 137, 75, 2, 68, 182, 5, 2, 175, 2, 19, 98, 50, 9, 38, 76, 2, 4, 2, 15, 166, 2, 36, 140, 143, 38, 76, 53, 2, 2, 4, 2, 16, 82, 6, 87, 2, 44, 2, 2, 5, 2, 4, 2, 11, 35, 2, 96, 21, 14, 22, 9, 76, 53, 7, 6, 2, 65, 13, 43, 2, 12, 2, 21, 13, 80, 140, 5, 135, 15, 14, 9, 31, 7, 4, 118, 2, 13, 28, 126, 110])\n",
      " list([1, 14, 20, 47, 111, 2, 2, 19, 12, 15, 166, 12, 2, 125, 40, 6, 2, 2, 2, 2, 39, 2, 11, 22, 2, 13, 28, 8, 2, 12, 2, 23, 94, 2, 151, 111, 2, 2, 4, 20, 13, 2, 2, 2, 2, 12, 16, 38, 78, 33, 2, 15, 12, 16, 2, 63, 93, 12, 6, 2, 106, 10, 10, 48, 2, 2, 18, 6, 2, 2, 2, 20, 19, 6, 2, 7, 2, 189, 5, 6, 2, 7, 2, 2, 95, 2, 6, 2, 7, 2, 2, 49, 2, 120, 5, 28, 49, 2, 10, 10, 13, 2, 19, 85, 2, 15, 4, 2, 9, 55, 78, 2, 9, 2, 8, 2, 8, 2, 76, 7, 4, 58, 5, 4, 2, 9, 2, 7, 43, 50])\n",
      " list([1, 2, 189, 2, 47, 110, 142, 7, 6, 2, 120, 4, 2, 2, 7, 153, 19, 87, 108, 141, 17, 2, 5, 2, 2, 2, 23, 8, 4, 136, 2, 2, 4, 2, 43, 2, 21, 2, 2, 5, 2, 120, 91, 2, 189, 2, 5, 9, 2, 31, 7, 4, 118, 2, 189, 108, 126, 93, 2, 16, 2, 2, 23, 6, 2, 2, 21, 14, 9, 93, 56, 18, 11, 2, 53, 2, 74, 31, 34, 4, 2, 7, 4, 22, 5, 14, 11, 2, 9, 2, 34, 4, 2, 2, 5, 116, 15, 2, 4, 22, 9, 6, 2, 4, 114, 2, 23, 107, 2, 2, 2, 5, 2, 2, 4, 2, 109, 9, 6, 132, 2, 2, 2, 8, 2, 18, 2, 29, 9, 2, 11, 6, 2, 19, 2, 2, 4, 2, 2, 2, 2, 2, 2, 2, 5, 27, 2, 2, 2, 103, 6, 2, 137, 11, 4, 2, 2, 36, 2, 2, 6, 2, 2, 11, 4, 2, 15, 2, 35, 154, 2, 103, 2, 173, 7, 12, 36, 2, 2, 94, 2, 2, 5, 2, 36, 2, 30, 2, 8, 2, 12, 8, 2, 143, 4, 2, 2, 10, 10, 2, 2, 9, 6, 55, 2, 2, 5, 146, 165, 179, 2, 15, 50, 2, 53, 108, 2, 23, 12, 17, 2, 38, 76, 2, 18, 183, 8, 81, 19, 12, 45, 2, 8, 135, 15, 2, 166, 4, 118, 7, 45, 2, 17, 2, 45, 2, 4, 22, 115, 165, 2, 2, 5, 2, 8, 2, 73, 2, 167, 2, 2, 2, 6, 87, 2, 18, 4, 22, 4, 192, 15, 91, 7, 12, 2, 2, 2, 4, 2, 2, 2, 2, 15, 4, 22, 2, 55, 2, 5, 14, 2, 2, 4, 2, 2, 7, 4, 2, 2, 8, 2, 2, 8, 2, 46, 7, 4, 2, 45, 55, 2, 8, 79, 2, 98, 45, 2, 2, 15, 4, 2, 9, 4, 155, 15, 66, 2, 84, 5, 14, 22, 2, 15, 17, 4, 167, 2, 15, 75, 70, 115, 66, 30, 2, 7, 2, 51, 9, 2, 4, 2, 5, 14, 2, 8, 2, 15, 2, 165, 127, 2, 8, 30, 179, 2, 4, 22, 9, 2, 18, 6, 176, 7, 2, 2, 4, 2, 114, 4, 105, 26, 32, 55, 2, 11, 68, 2, 96, 5, 4, 192, 15, 4, 2, 2, 2, 2, 23, 94, 2, 109, 9, 55, 73, 2, 2, 2, 15, 4, 22, 2, 2, 34, 4, 130, 2, 30, 2, 2, 17, 4, 2, 199, 166, 2, 5, 2, 8, 30, 179, 2, 2, 2, 9, 6, 2, 87, 189, 22, 5, 31, 7, 4, 118, 7, 4, 2, 2, 2, 2])\n",
      " list([1, 54, 13, 2, 14, 20, 13, 69, 55, 2, 2, 21, 54, 13, 2, 12, 13, 2, 15, 4, 20, 16, 2, 6, 176, 2, 74, 51, 13, 2, 4, 156, 71, 78, 4, 2, 2, 16, 31, 7, 4, 2, 4, 65, 16, 38, 2, 12, 100, 157, 18, 6, 2, 20, 2, 18, 4, 2, 21, 14, 31, 9, 24, 6, 2, 12, 9, 6, 2, 2, 7, 2, 4, 2, 9, 73, 2, 2, 18, 31, 155, 36, 100, 2, 2, 20, 103, 2, 2, 13, 2, 12, 2, 5, 6, 2, 46, 7, 2])\n",
      " list([1, 13, 119, 2, 189, 2, 13, 92, 2, 48, 4, 116, 9, 2, 2, 42, 2, 4, 2, 168, 2, 13, 2, 14, 20, 2, 18, 4, 2, 2, 32, 4, 96, 39, 4, 2, 7, 4, 22, 8, 4, 55, 130, 168, 13, 92, 2, 6, 158, 2, 2, 42, 6, 2, 19, 194, 2, 2, 6, 114, 8, 72, 21, 2, 2, 2, 4, 51, 9, 14, 20, 44, 155, 8, 6, 2, 162, 2, 2, 51, 9, 14, 20, 44, 10, 10, 14, 2, 2, 2, 42, 2, 21, 48, 25, 28, 35, 2, 5, 6, 2, 8, 2, 5, 42, 25, 181, 8, 130, 56, 2, 2, 5, 2, 2, 14, 2])\n",
      " list([1, 2, 37, 100, 169, 2, 2, 11, 14, 2, 7, 2, 2, 8, 28, 68, 2, 2, 75, 28, 4, 2, 2, 2, 173, 58, 2, 2, 19, 2, 32, 120, 41, 2, 2, 2, 39, 2, 2, 34, 35, 2, 2, 150, 59, 9, 2, 2, 2, 32, 120, 4, 2, 2, 4, 2, 38, 2, 2, 2, 8, 2, 2, 2, 41, 2, 11, 2, 2, 75, 28, 4, 2, 37, 2, 46, 34, 2, 6, 2, 37, 43, 2, 8, 30, 27, 2, 2, 2, 19, 90, 88, 29, 2, 99, 2, 5, 2, 34, 2, 27, 2, 2, 2, 2, 19, 41, 2, 5, 95, 2, 41, 56, 75, 28, 4, 2, 37, 9, 2, 2, 34, 27, 2, 5, 37, 2, 2, 5, 2, 27, 2, 25, 67, 45, 32, 2, 2, 2, 4, 64, 2, 2, 11, 14, 2, 2, 7, 2, 9, 54, 4, 2, 2, 27, 2, 2, 45, 6, 52, 155, 14, 2, 16, 2, 23, 2, 88, 2, 51, 6, 2, 7, 2, 22, 12, 62, 30, 48, 15, 2, 37, 2, 2, 2, 8, 30, 2, 11, 14, 2, 9, 66, 2, 57, 2, 91, 84, 104, 2, 26, 2, 75, 2, 14, 2, 20, 95, 2, 23, 2, 2, 4, 2, 2, 61, 2, 12, 16, 6, 2, 17, 8, 63, 31, 16, 2, 51, 9, 170, 23, 11, 2, 134, 2, 2, 2, 2])\n",
      " list([1, 2, 20, 33, 118, 2, 2, 26, 184, 52, 2, 2, 2, 2, 13, 2, 45, 6, 2, 10, 10, 25, 2, 49, 2, 2, 11, 129, 2, 8, 2, 25, 39, 2, 2, 2, 25, 2, 2, 2, 5, 2, 46, 2, 2, 25, 2, 30, 2, 2, 10, 10, 25, 2, 34, 4, 2, 54, 2, 2, 2, 25, 79, 72, 2, 72, 6, 2, 2, 10, 10, 2, 75, 2, 2, 2, 4, 2, 32, 75, 28, 9, 14, 2, 10, 10, 2, 2, 9, 4, 2, 2, 10, 10, 2, 2, 70, 2, 4, 2, 2, 2, 175, 2, 11, 4, 2, 2, 2])\n",
      " list([1, 6, 2, 2, 7, 58, 43, 2, 11, 6, 171, 2, 2, 2, 2, 2, 2, 6, 2, 2, 2, 2, 2, 2, 2, 2, 5, 2, 21, 24, 2, 6, 2, 2, 40, 109, 19, 2, 8, 2, 2, 2, 5, 2, 11, 6, 2, 5, 25, 80, 28, 14, 2, 2, 18, 6, 20, 13, 66, 188, 6, 2, 46, 7, 4, 2, 2, 40, 2, 2, 2, 4, 114, 16, 2, 2, 2, 5, 2, 2, 89, 111, 2, 26, 2, 8, 97, 6, 2, 2, 2, 2, 23, 6, 2, 2, 2, 2, 21, 161, 36, 2, 2, 143, 2, 2, 14, 16, 2, 18, 2, 2, 12, 2, 40, 6, 2, 2, 13, 122, 2, 4, 2, 2, 2, 11, 4, 2, 151])\n",
      " list([1, 2, 2, 11, 4, 2, 9, 4, 2, 4, 2, 9, 17, 2, 17, 27, 2, 2, 5, 53, 2, 2, 5, 2, 2, 89, 100, 12, 30, 101, 128, 4, 2, 9, 2, 2, 5, 4, 2, 63, 9, 2, 111, 2, 103, 14, 2, 24, 2, 48, 14, 16, 4, 86, 58, 13, 2, 12, 5, 2, 11, 72, 4, 91, 2, 2, 2, 7, 101, 20, 2, 2, 4, 2, 2, 11, 14, 20, 9, 2, 2, 5, 4, 2, 2, 9, 82, 6, 87, 2, 2, 29, 2, 23, 27, 2, 4, 114, 9, 2, 2, 13, 2, 2, 12, 2, 21, 4, 130, 9, 66, 87, 13, 2, 14, 17, 31, 7, 2, 2, 118, 19, 2, 5, 2, 2, 82, 25, 2, 181, 8, 2, 46, 2, 2, 2, 54, 12, 2, 46, 2, 2, 2, 13, 2, 48, 25, 40, 2, 2, 14, 31, 46, 17, 12, 2, 2, 11, 4, 2, 2, 2, 6])\n",
      " list([1, 33, 4, 2, 7, 4, 2, 194, 2, 2, 2, 11, 2, 2, 2, 2, 5, 4, 2, 2, 2, 13, 2, 23, 35, 2, 2, 148, 2, 2, 2, 2, 2, 37, 2, 4, 123, 103, 153, 7, 2, 2, 2, 2, 141, 17, 2, 2, 2, 2, 2, 13, 197, 36, 71, 112, 2, 5, 2, 38, 2, 2, 2, 2, 2, 16, 95, 2, 83, 4, 2, 19, 49, 2, 46, 12, 69, 2, 35, 2, 2, 2, 56, 73, 2, 21, 2, 2, 69, 2, 11, 2, 17, 6, 2, 5, 2, 2, 2, 4, 2, 2, 2, 4, 2, 29, 2, 8, 27, 2, 17, 2, 2, 2, 4, 2, 2, 109, 2, 2, 2, 2, 11, 6, 2, 2, 2, 2, 4, 2, 15, 29, 16, 2, 54, 29, 2, 2, 69, 2, 4, 2, 21, 2, 57, 2, 2, 100, 28, 2, 15, 2, 17, 73, 17, 2, 2, 10, 10, 2, 16, 2, 5, 2, 2, 123, 8, 2, 2, 82, 2, 11, 2, 4, 2, 2, 2, 7, 2, 23, 2, 69, 77, 2, 34, 4, 2, 2, 2, 7, 2, 11, 2, 6, 2, 2, 2, 121, 35, 2, 2, 2, 2, 23, 2, 18, 4, 2, 2, 98, 2, 2, 2, 2, 27, 86, 2, 2, 2, 2, 11, 2, 2, 2, 2, 2, 2, 2, 2, 2, 2, 2, 2, 2, 2, 2, 2, 2, 2, 5, 2, 2, 4, 2, 2, 2, 2, 120, 14, 2, 7, 2, 16, 4, 2, 2, 2, 2, 4, 2, 2, 2, 37, 2, 98, 32, 17, 2, 27, 2, 33, 24, 112, 2, 8, 2, 27, 2, 56, 4, 2, 8, 2, 4, 2, 11, 2, 93, 90, 2, 5, 2, 151, 29, 16, 2, 8, 2, 2, 29, 197, 16, 27, 2, 2, 95, 50, 16, 126, 38, 2, 2, 2, 2, 2, 5, 2, 2, 2, 2, 2, 2, 16, 40, 6, 2, 154, 2, 2, 2, 123, 34, 2, 8, 4, 2, 5, 2, 98, 34, 2, 2, 2, 2, 29, 2, 112, 2, 38, 76, 29, 2, 8, 2, 2, 17, 2, 2, 27, 2, 71, 4, 2, 2, 2, 2, 4, 2, 2, 2, 37, 2, 23, 8, 2, 129, 2, 5, 4, 2, 2, 2, 2, 2, 2, 38, 147, 2, 2, 11, 4, 123, 160, 2, 94, 2, 2, 2, 82, 2, 51, 16, 2, 23, 4, 2, 17, 2, 2, 2, 8, 4, 2, 2, 2, 17, 2, 2, 23, 2, 2, 2, 2, 2, 19, 90, 2, 2, 7, 2, 2, 64, 8, 30, 2, 34, 6, 2, 56, 2, 39, 2, 4, 2, 2, 2, 16, 2, 34, 2, 2, 5, 2, 2, 10, 10, 151, 115, 179, 2, 2, 2, 11, 4, 2, 2, 2, 2, 16, 2, 195, 8, 2, 18, 6, 2, 7, 2, 2, 11, 2, 2, 5, 2, 2, 4, 2, 19, 6, 2, 2, 7, 15, 154, 2, 2, 2, 36, 95, 2, 35, 2, 2, 7, 154, 2, 2, 51, 2, 2, 2, 2, 10, 10, 4, 123, 2, 2, 2, 2, 153, 2, 54, 2, 2, 7, 2, 2, 74, 2, 4, 2, 7, 2, 4, 2, 43, 2, 90, 30, 2, 2, 54, 2, 2, 2, 4, 109, 7, 2, 2, 27, 2, 17, 2, 2, 160, 2, 7, 2, 10, 10, 4, 2, 2, 11, 2, 2, 4, 2, 2, 2, 34, 2, 18, 2, 4, 2, 2, 149, 98, 140, 19, 87, 2, 17, 122, 2, 10, 10, 2, 28, 77, 171, 5, 2, 2, 2, 23, 2, 2, 2, 32, 88, 7, 94, 38, 2, 2, 2, 14, 9, 2, 18, 31, 155, 4, 123, 16, 24, 2, 44, 2, 48, 6, 2, 132, 2, 56, 9, 38, 2, 138, 127, 2, 2, 2, 22, 2, 2, 8, 2, 131, 79, 2, 23, 2, 12, 2, 2, 2, 17, 35, 2, 5, 2, 107, 2, 12, 16, 2, 39, 2, 2, 2, 2, 49, 105, 71, 2, 23, 147, 84, 4, 2, 2, 66, 122, 2, 8, 27, 2, 17, 2, 13, 193, 4, 2, 15, 48, 25, 26, 170, 8, 2, 2, 23, 2, 79, 12, 2, 2, 4, 2, 57, 2, 89, 2, 12, 2, 2, 8, 2, 2, 9, 2, 2, 2, 16, 199, 163, 5, 2, 5, 2, 2, 14, 2, 2, 18, 2, 2, 2, 2, 13, 135, 58, 8, 2, 14, 2, 17, 2, 62, 135, 2, 28, 57, 2, 11, 14, 2])\n",
      " list([1, 13, 28, 64, 69, 4, 2, 7, 2, 14, 20, 2, 54, 13, 16, 2, 185, 38, 76, 7, 4, 20, 9, 2, 11, 2, 8, 2, 12, 190, 13, 70, 135, 12, 16, 24, 17, 163, 17, 6, 20, 2, 2, 2, 144, 28, 77, 5, 4, 91, 2, 183, 39, 14, 20, 26, 4, 2, 5, 4, 136, 19, 4, 2, 2, 2, 44, 2, 2, 85, 74, 15, 4, 20, 9, 66, 43, 139, 7, 117, 2, 5, 194, 2, 2, 187, 5, 84, 116, 2, 5, 2, 17, 84, 144, 81, 11, 6, 20, 7, 14, 2, 190, 43, 2, 6, 55, 2, 2, 5, 6, 2, 2, 2, 81, 24, 6, 52, 2, 97, 2, 14, 20, 9, 2, 8, 30, 6, 2, 20, 164, 8, 30, 2, 2, 190, 25, 144, 131, 97, 2, 15, 26, 163, 5, 24, 2, 8, 2, 6, 2, 2, 2, 83, 6, 2, 2, 20, 2, 6, 2, 62, 28, 77, 2, 17, 4, 2, 2, 4, 2, 2, 2, 2, 5, 6, 132, 2, 2, 8, 2, 180, 6, 2, 2, 16, 165, 184, 52, 4, 2, 2, 2, 40, 6, 2, 2, 21, 57, 36, 2, 93, 6, 2, 20, 5, 6, 2, 2, 31, 33, 15])\n",
      " list([1, 2, 26, 9, 6, 2, 2, 2, 44, 6, 2, 2, 2, 2, 2, 2, 2, 9, 2, 2, 103, 2, 59, 9, 2, 75, 95, 67, 4, 2, 11, 2, 2, 4, 2, 15, 30, 124, 15, 29, 16, 2, 99, 2, 5, 15, 27, 2, 2, 90, 29, 9, 2, 29, 70, 2, 8, 2, 21, 24, 17, 2, 2, 2, 153, 121, 75, 67, 2, 2, 2, 2, 2, 2, 8, 2, 39, 2, 5, 2, 6, 185, 132, 2, 2, 2, 37, 12, 2, 46, 9, 4, 2, 7, 41, 2, 4, 22, 9, 6, 117, 23, 4, 2, 2, 4, 65, 2, 32, 4, 2, 25, 2, 12, 8, 21, 12, 9, 38, 2, 2, 34, 35, 2, 177, 2, 2, 5, 2, 15, 25, 191, 2, 21, 79, 2, 56, 11, 4, 2, 2, 47, 2, 77, 110, 23, 2, 8, 128, 2, 5, 59, 5, 2, 26, 2, 34, 6, 2, 2, 7, 109, 156, 11, 2, 2, 6, 2, 5, 2, 2, 15, 80, 2, 5, 2, 25])]\n"
     ]
    }
   ],
   "source": [
    "#타깃 데이터 출력\n",
    "print(train_input[:20])"
   ]
  },
  {
   "cell_type": "code",
   "execution_count": 25,
   "id": "d8dcf3b7-be47-441f-beba-7f0dd5950474",
   "metadata": {},
   "outputs": [],
   "source": [
    "#훈련 세트에서 20%를 검증 세트로 떼어놓기\n",
    "from sklearn.model_selection import train_test_split\n",
    "train_input, val_input, train_target, val_target = train_test_split(\n",
    "    train_input, train_target, test_size=0.2, random_state=42)"
   ]
  },
  {
   "cell_type": "code",
   "execution_count": 27,
   "id": "4a3e4edb-1f8d-4f3c-aa0e-7ce03ade1c53",
   "metadata": {},
   "outputs": [],
   "source": [
    "#각 리뷰의 길이를 계산해 넘파이 배열에 담기\n",
    "import numpy as np\n",
    "lengths = np.array([len(x) for x in train_input])"
   ]
  },
  {
   "cell_type": "code",
   "execution_count": 29,
   "id": "cbbc901c-78fd-4bce-96ae-09019beaa234",
   "metadata": {},
   "outputs": [
    {
     "name": "stdout",
     "output_type": "stream",
     "text": [
      "239.00925 178.0\n"
     ]
    }
   ],
   "source": [
    "#리뷰 길이의 평균값과 중앙값 구하기\n",
    "print(np.mean(lengths), np.median(lengths))"
   ]
  },
  {
   "cell_type": "code",
   "execution_count": 31,
   "id": "db034b38-f675-48b8-80a0-ac0f40bc3597",
   "metadata": {},
   "outputs": [],
   "source": [
    "#평균값과 중앙값을 보아 리뷰 길이 데이터는 한쪽에 치우친 분포를 보일 것으로 예상할 수 있다."
   ]
  },
  {
   "cell_type": "code",
   "execution_count": 33,
   "id": "faae2ccc-4efd-4df4-ae25-a1757ec64118",
   "metadata": {},
   "outputs": [
    {
     "data": {
      "image/png": "[encoded data removed]",
      "text/plain": [
       "<Figure size 640x480 with 1 Axes>"
      ]
     },
     "metadata": {},
     "output_type": "display_data"
    }
   ],
   "source": [
    "#lengths 배열을 히스토그램으로 표현\n",
    "import matplotlib.pyplot as plt\n",
    "plt.hist(lengths)\n",
    "plt.xlabel('length')\n",
    "plt.ylabel('frequency')\n",
    "plt.show()"
   ]
  },
  {
   "cell_type": "code",
   "execution_count": 35,
   "id": "ba43d2c3-82de-47f8-b005-d2dda307f3a8",
   "metadata": {},
   "outputs": [],
   "source": [
    "#리뷰가 대부분 짧아서 100개의 단어만 사용할 것이다.\n",
    "#100개의 단어보다 작은 리뷰들은 길이를 100으로 맞추기 위해 패딩을 사용한다. (패딩을 나타내는 토큰은 0이다.)"
   ]
  },
  {
   "cell_type": "code",
   "execution_count": 37,
   "id": "10fd2cff-3ec7-4007-a686-07d66832ef14",
   "metadata": {},
   "outputs": [],
   "source": [
    "#시퀀스 데이터의 길이를 맞추는 pad_sequences() 함수 사용\n",
    "#maxlen에 원하는 길이를 지정하면 이보다 긴 경우는 잘라내고 짧은 경우는 0으로 패딩한다.\n",
    "\n",
    "from tensorflow.keras.preprocessing.sequence import pad_sequences\n",
    "train_seq = pad_sequences(train_input, maxlen=100)"
   ]
  },
  {
   "cell_type": "code",
   "execution_count": 39,
   "id": "8d4bd177-ccf0-4b61-a0b7-b1cbd4575242",
   "metadata": {},
   "outputs": [
    {
     "name": "stdout",
     "output_type": "stream",
     "text": [
      "(20000, 100)\n"
     ]
    }
   ],
   "source": [
    "print(train_seq.shape)"
   ]
  },
  {
   "cell_type": "code",
   "execution_count": 41,
   "id": "b7f3cbf2-b705-41b1-83c6-d3948adff8fe",
   "metadata": {},
   "outputs": [],
   "source": [
    "#길이를 맞췄기 때문에 2차원 배열이 되었다."
   ]
  },
  {
   "cell_type": "code",
   "execution_count": 43,
   "id": "bf974736-7c95-4510-a892-ba15cc1d390e",
   "metadata": {},
   "outputs": [
    {
     "name": "stdout",
     "output_type": "stream",
     "text": [
      "[ 10   4  20   9   2   2   2   5  45   6   2   2  33   2   8   2 142   2\n",
      "   5   2  17  73  17   2   5   2  19  55   2   2  92  66 104  14  20  93\n",
      "  76   2 151  33   4  58  12 188   2 151  12   2  69   2 142  73   2   6\n",
      "   2   7   2   2 188   2 103  14  31  10  10   2   7   2   5   2  80  91\n",
      "   2  30   2  34  14  20 151  50  26 131  49   2  84  46  50  37  80  79\n",
      "   6   2  46   7  14  20  10  10   2 158]\n"
     ]
    }
   ],
   "source": [
    "print(train_seq[0])"
   ]
  },
  {
   "cell_type": "code",
   "execution_count": 45,
   "id": "e033655d-76d9-48ed-bc0a-965a49d798b6",
   "metadata": {},
   "outputs": [],
   "source": [
    "#패딩값 0이 앞뒤에 없는 것으로 보아 100보다는 길었을 것으로 예상"
   ]
  },
  {
   "cell_type": "code",
   "execution_count": 47,
   "id": "c42ede80-8e70-46bd-9914-ca49cda72bfb",
   "metadata": {},
   "outputs": [
    {
     "name": "stdout",
     "output_type": "stream",
     "text": [
      "[6, 2, 46, 7, 14, 20, 10, 10, 2, 158]\n"
     ]
    }
   ],
   "source": [
    "print(train_input[0][-10:]) #첫번째 샘플의 마지막 10개 토큰 출력"
   ]
  },
  {
   "cell_type": "code",
   "execution_count": 49,
   "id": "c3ceec6d-e63c-4d4e-b9c9-bc0415ca05f0",
   "metadata": {},
   "outputs": [],
   "source": [
    "#train_seq[0]의 출력값과 일치하는 것으로 보아 앞부분이 잘렸다는 것을 짐작할 수 있다."
   ]
  },
  {
   "cell_type": "markdown",
   "id": "19e07846-1f2a-4b6e-b93c-e0f43b05e2f4",
   "metadata": {},
   "source": [
    "보통 시퀀스의 뒷부분의 정보가 더 유용하리라 기대하기 때문에 앞부분을 자른다.\n",
    "\n",
    "\n",
    "영화 리뷰 데이터를 생각해 보면 리뷰 끝에 결정적인 소감을 말할 가능성이 높다고 본다."
   ]
  },
  {
   "cell_type": "code",
   "execution_count": 52,
   "id": "33ae4c8b-dc74-4dd4-8fe8-851facecb617",
   "metadata": {},
   "outputs": [
    {
     "name": "stdout",
     "output_type": "stream",
     "text": [
      "[  0   0   0   0   1   2 195  19  49   2   2 190   4   2   2   2 183  10\n",
      "  10  13  82  79   4   2  36  71   2   8   2  25  19  49   7   4   2   2\n",
      "   2   2   2  10  10  48  25  40   2  11   2   2  40   2   2   5   4   2\n",
      "   2  95  14   2  56 129   2  10  10  21   2  94   2   2   2   2  11 190\n",
      "  24   2   2   7  94   2   2  10  10  87   2  34  49   2   7   2   2   2\n",
      "   2   2   2   2  46  48  64  18   4   2]\n"
     ]
    }
   ],
   "source": [
    "print(train_seq[5])"
   ]
  },
  {
   "cell_type": "code",
   "execution_count": 54,
   "id": "130d4ff3-5bd3-4081-9c8d-2ff55fb270ec",
   "metadata": {},
   "outputs": [],
   "source": [
    "#앞부분에 0이 있는 것으로 보아 이 샘플의 길이는 100이 안될 것이다."
   ]
  },
  {
   "cell_type": "markdown",
   "id": "c5415416-ea69-4aed-b012-c8198b2d1dae",
   "metadata": {},
   "source": [
    "같은 이유로 마지막에 있는 단어가 셀의 은닉 상태에 가장 큰 영향을 미치기 때문에 앞부분에 패딩을 추가한다."
   ]
  },
  {
   "cell_type": "code",
   "execution_count": 57,
   "id": "7f8f78ee-9101-49a5-9132-84e974396af4",
   "metadata": {},
   "outputs": [],
   "source": [
    "#검증 세트의 길이도 100으로 맞추기\n",
    "val_seq = pad_sequences(val_input, maxlen=100)"
   ]
  },
  {
   "cell_type": "code",
   "execution_count": 61,
   "id": "faa5879b-c1c5-47bc-ad93-f31d390eeca9",
   "metadata": {},
   "outputs": [
    {
     "name": "stderr",
     "output_type": "stream",
     "text": [
      "/opt/anaconda3/lib/python3.12/site-packages/keras/src/layers/rnn/rnn.py:200: UserWarning: Do not pass an `input_shape`/`input_dim` argument to a layer. When using Sequential models, prefer using an `Input(shape)` object as the first layer in the model instead.\n",
      "  super().__init__(**kwargs)\n"
     ]
    }
   ],
   "source": [
    "#순환 신경망 만들기\n",
    "from tensorflow import keras\n",
    "model = keras.Sequential()\n",
    "model.add(keras.layers.SimpleRNN(8, input_shape=(100,200)))\n",
    "model.add(keras.layers.Dense(1, activation='sigmoid')) #이진분류이므로 출력층은 1개의 뉴런을 가진다."
   ]
  },
  {
   "cell_type": "markdown",
   "id": "f91db2a6-372b-4e1b-a80f-39bc182e7261",
   "metadata": {},
   "source": [
    "**200은 어디서 온 숫자인가?**\n",
    "\n",
    "\n",
    "토큰을 정수로 변환한 이 데이터를 신경망에 주입하면 큰 정수가 큰 활성화 출력을 만들게 된다.\n",
    "\n",
    "\n",
    "따라서 정숫값에 있는 크기 속성을 없애고 각 정수를 고유하게 표현하고자 원-핫 인코딩 방식을 사용한다.\n",
    "\n",
    "\n",
    "위에서 200개의 단어만 사용하도록 지정했기 때문에 배열의 길이는 200이 되는 것이다."
   ]
  },
  {
   "cell_type": "code",
   "execution_count": 64,
   "id": "df939342-0ca1-4602-a59d-9406bfb5cfea",
   "metadata": {},
   "outputs": [],
   "source": [
    "#자동으로 원-핫 인코딩된 배열을 반환\n",
    "train_oh = keras.utils.to_categorical(train_seq)"
   ]
  },
  {
   "cell_type": "code",
   "execution_count": 66,
   "id": "3c029042-c648-4f78-9a13-609e8643f237",
   "metadata": {},
   "outputs": [
    {
     "name": "stdout",
     "output_type": "stream",
     "text": [
      "(20000, 100, 200)\n"
     ]
    }
   ],
   "source": [
    "#원-핫 인코딩된 배열의 크기 출력\n",
    "print(train_oh.shape)"
   ]
  },
  {
   "cell_type": "code",
   "execution_count": 68,
   "id": "ac5831b7-5dc1-4f90-a3bd-236cd167a8e2",
   "metadata": {},
   "outputs": [
    {
     "name": "stdout",
     "output_type": "stream",
     "text": [
      "[0. 0. 0. 0. 0. 0. 0. 0. 0. 0. 1. 0.]\n"
     ]
    }
   ],
   "source": [
    "#첫번째 샘플의 첫번째 토큰이었던 10이 잘 인코딩되었는지 출력\n",
    "print(train_oh[0][0][:12])"
   ]
  },
  {
   "cell_type": "code",
   "execution_count": 70,
   "id": "ea6227df-dcb4-4943-87a2-ba2d23779158",
   "metadata": {},
   "outputs": [
    {
     "name": "stdout",
     "output_type": "stream",
     "text": [
      "1.0\n"
     ]
    }
   ],
   "source": [
    "#열한번째 원소를 제외한 나머지 원소가 모두 0인지 확인\n",
    "print(np.sum(train_oh[0][0]))"
   ]
  },
  {
   "cell_type": "code",
   "execution_count": 72,
   "id": "cc8e2275-cf57-4599-81fa-69bcfb408ce8",
   "metadata": {},
   "outputs": [],
   "source": [
    "#val_seq도 원-핫 인코딩으로 변경\n",
    "val_oh = keras.utils.to_categorical(val_seq)"
   ]
  },
  {
   "cell_type": "code",
   "execution_count": 74,
   "id": "79d13e3b-50b6-4290-8f6e-5511142ab6a6",
   "metadata": {},
   "outputs": [
    {
     "data": {
      "text/html": [
       "<pre style=\"white-space:pre;overflow-x:auto;line-height:normal;font-family:Menlo,'DejaVu Sans Mono',consolas,'Courier New',monospace\"><span style=\"font-weight: bold\">Model: \"sequential\"</span>\n",
       "</pre>\n"
      ],
      "text/plain": [
       "\u001b[1mModel: \"sequential\"\u001b[0m\n"
      ]
     },
     "metadata": {},
     "output_type": "display_data"
    },
    {
     "data": {
      "text/html": [
       "<pre style=\"white-space:pre;overflow-x:auto;line-height:normal;font-family:Menlo,'DejaVu Sans Mono',consolas,'Courier New',monospace\">┏━━━━━━━━━━━━━━━━━━━━━━━━━━━━━━━━━┳━━━━━━━━━━━━━━━━━━━━━━━━┳━━━━━━━━━━━━━━━┓\n",
       "┃<span style=\"font-weight: bold\"> Layer (type)                    </span>┃<span style=\"font-weight: bold\"> Output Shape           </span>┃<span style=\"font-weight: bold\">       Param # </span>┃\n",
       "┡━━━━━━━━━━━━━━━━━━━━━━━━━━━━━━━━━╇━━━━━━━━━━━━━━━━━━━━━━━━╇━━━━━━━━━━━━━━━┩\n",
       "│ simple_rnn (<span style=\"color: #0087ff; text-decoration-color: #0087ff\">SimpleRNN</span>)          │ (<span style=\"color: #00d7ff; text-decoration-color: #00d7ff\">None</span>, <span style=\"color: #00af00; text-decoration-color: #00af00\">8</span>)              │         <span style=\"color: #00af00; text-decoration-color: #00af00\">1,672</span> │\n",
       "├─────────────────────────────────┼────────────────────────┼───────────────┤\n",
       "│ dense (<span style=\"color: #0087ff; text-decoration-color: #0087ff\">Dense</span>)                   │ (<span style=\"color: #00d7ff; text-decoration-color: #00d7ff\">None</span>, <span style=\"color: #00af00; text-decoration-color: #00af00\">1</span>)              │             <span style=\"color: #00af00; text-decoration-color: #00af00\">9</span> │\n",
       "└─────────────────────────────────┴────────────────────────┴───────────────┘\n",
       "</pre>\n"
      ],
      "text/plain": [
       "┏━━━━━━━━━━━━━━━━━━━━━━━━━━━━━━━━━┳━━━━━━━━━━━━━━━━━━━━━━━━┳━━━━━━━━━━━━━━━┓\n",
       "┃\u001b[1m \u001b[0m\u001b[1mLayer (type)                   \u001b[0m\u001b[1m \u001b[0m┃\u001b[1m \u001b[0m\u001b[1mOutput Shape          \u001b[0m\u001b[1m \u001b[0m┃\u001b[1m \u001b[0m\u001b[1m      Param #\u001b[0m\u001b[1m \u001b[0m┃\n",
       "┡━━━━━━━━━━━━━━━━━━━━━━━━━━━━━━━━━╇━━━━━━━━━━━━━━━━━━━━━━━━╇━━━━━━━━━━━━━━━┩\n",
       "│ simple_rnn (\u001b[38;5;33mSimpleRNN\u001b[0m)          │ (\u001b[38;5;45mNone\u001b[0m, \u001b[38;5;34m8\u001b[0m)              │         \u001b[38;5;34m1,672\u001b[0m │\n",
       "├─────────────────────────────────┼────────────────────────┼───────────────┤\n",
       "│ dense (\u001b[38;5;33mDense\u001b[0m)                   │ (\u001b[38;5;45mNone\u001b[0m, \u001b[38;5;34m1\u001b[0m)              │             \u001b[38;5;34m9\u001b[0m │\n",
       "└─────────────────────────────────┴────────────────────────┴───────────────┘\n"
      ]
     },
     "metadata": {},
     "output_type": "display_data"
    },
    {
     "data": {
      "text/html": [
       "<pre style=\"white-space:pre;overflow-x:auto;line-height:normal;font-family:Menlo,'DejaVu Sans Mono',consolas,'Courier New',monospace\"><span style=\"font-weight: bold\"> Total params: </span><span style=\"color: #00af00; text-decoration-color: #00af00\">1,681</span> (6.57 KB)\n",
       "</pre>\n"
      ],
      "text/plain": [
       "\u001b[1m Total params: \u001b[0m\u001b[38;5;34m1,681\u001b[0m (6.57 KB)\n"
      ]
     },
     "metadata": {},
     "output_type": "display_data"
    },
    {
     "data": {
      "text/html": [
       "<pre style=\"white-space:pre;overflow-x:auto;line-height:normal;font-family:Menlo,'DejaVu Sans Mono',consolas,'Courier New',monospace\"><span style=\"font-weight: bold\"> Trainable params: </span><span style=\"color: #00af00; text-decoration-color: #00af00\">1,681</span> (6.57 KB)\n",
       "</pre>\n"
      ],
      "text/plain": [
       "\u001b[1m Trainable params: \u001b[0m\u001b[38;5;34m1,681\u001b[0m (6.57 KB)\n"
      ]
     },
     "metadata": {},
     "output_type": "display_data"
    },
    {
     "data": {
      "text/html": [
       "<pre style=\"white-space:pre;overflow-x:auto;line-height:normal;font-family:Menlo,'DejaVu Sans Mono',consolas,'Courier New',monospace\"><span style=\"font-weight: bold\"> Non-trainable params: </span><span style=\"color: #00af00; text-decoration-color: #00af00\">0</span> (0.00 B)\n",
       "</pre>\n"
      ],
      "text/plain": [
       "\u001b[1m Non-trainable params: \u001b[0m\u001b[38;5;34m0\u001b[0m (0.00 B)\n"
      ]
     },
     "metadata": {},
     "output_type": "display_data"
    }
   ],
   "source": [
    "#훈련 세트 및 검증 세트 준비 완료\n",
    "#모델의 구조 출력\n",
    "\n",
    "model.summary()"
   ]
  },
  {
   "cell_type": "markdown",
   "id": "76aa8d03-7516-4b36-8cb7-50da8d23e0a0",
   "metadata": {},
   "source": [
    "입력 토큰인 200차원의 원-핫 인코딩 배열 x 순환층의 뉴런 8개 = 1600\n",
    "\n",
    "\n",
    "\n",
    "은닉 상태 크기 8 x 순환층의 뉴런 8개 = 64\n",
    "\n",
    "\n",
    "\n",
    "뉴런마다의 절편 8\n",
    "\n",
    "\n",
    "1600 + 64 + 8  = 1,672 "
   ]
  },
  {
   "cell_type": "code",
   "execution_count": 77,
   "id": "374bfc54-a5ae-43b9-a02b-94132304d077",
   "metadata": {},
   "outputs": [
    {
     "name": "stdout",
     "output_type": "stream",
     "text": [
      "Epoch 1/100\n",
      "\u001b[1m313/313\u001b[0m \u001b[32m━━━━━━━━━━━━━━━━━━━━\u001b[0m\u001b[37m\u001b[0m \u001b[1m4s\u001b[0m 12ms/step - accuracy: 0.4932 - loss: 0.7085 - val_accuracy: 0.4850 - val_loss: 0.7099\n",
      "Epoch 2/100\n",
      "\u001b[1m313/313\u001b[0m \u001b[32m━━━━━━━━━━━━━━━━━━━━\u001b[0m\u001b[37m\u001b[0m \u001b[1m3s\u001b[0m 9ms/step - accuracy: 0.5081 - loss: 0.7011 - val_accuracy: 0.4856 - val_loss: 0.7048\n",
      "Epoch 3/100\n",
      "\u001b[1m313/313\u001b[0m \u001b[32m━━━━━━━━━━━━━━━━━━━━\u001b[0m\u001b[37m\u001b[0m \u001b[1m3s\u001b[0m 9ms/step - accuracy: 0.5168 - loss: 0.6961 - val_accuracy: 0.4948 - val_loss: 0.7010\n",
      "Epoch 4/100\n",
      "\u001b[1m313/313\u001b[0m \u001b[32m━━━━━━━━━━━━━━━━━━━━\u001b[0m\u001b[37m\u001b[0m \u001b[1m3s\u001b[0m 9ms/step - accuracy: 0.5121 - loss: 0.6943 - val_accuracy: 0.4974 - val_loss: 0.6985\n",
      "Epoch 5/100\n",
      "\u001b[1m313/313\u001b[0m \u001b[32m━━━━━━━━━━━━━━━━━━━━\u001b[0m\u001b[37m\u001b[0m \u001b[1m3s\u001b[0m 9ms/step - accuracy: 0.5339 - loss: 0.6905 - val_accuracy: 0.5148 - val_loss: 0.6950\n",
      "Epoch 6/100\n",
      "\u001b[1m313/313\u001b[0m \u001b[32m━━━━━━━━━━━━━━━━━━━━\u001b[0m\u001b[37m\u001b[0m \u001b[1m3s\u001b[0m 9ms/step - accuracy: 0.5511 - loss: 0.6858 - val_accuracy: 0.5504 - val_loss: 0.6844\n",
      "Epoch 7/100\n",
      "\u001b[1m313/313\u001b[0m \u001b[32m━━━━━━━━━━━━━━━━━━━━\u001b[0m\u001b[37m\u001b[0m \u001b[1m3s\u001b[0m 9ms/step - accuracy: 0.5791 - loss: 0.6768 - val_accuracy: 0.5902 - val_loss: 0.6731\n",
      "Epoch 8/100\n",
      "\u001b[1m313/313\u001b[0m \u001b[32m━━━━━━━━━━━━━━━━━━━━\u001b[0m\u001b[37m\u001b[0m \u001b[1m3s\u001b[0m 9ms/step - accuracy: 0.6126 - loss: 0.6631 - val_accuracy: 0.6152 - val_loss: 0.6619\n",
      "Epoch 9/100\n",
      "\u001b[1m313/313\u001b[0m \u001b[32m━━━━━━━━━━━━━━━━━━━━\u001b[0m\u001b[37m\u001b[0m \u001b[1m3s\u001b[0m 9ms/step - accuracy: 0.6311 - loss: 0.6537 - val_accuracy: 0.6384 - val_loss: 0.6509\n",
      "Epoch 10/100\n",
      "\u001b[1m313/313\u001b[0m \u001b[32m━━━━━━━━━━━━━━━━━━━━\u001b[0m\u001b[37m\u001b[0m \u001b[1m3s\u001b[0m 9ms/step - accuracy: 0.6597 - loss: 0.6398 - val_accuracy: 0.6588 - val_loss: 0.6395\n",
      "Epoch 11/100\n",
      "\u001b[1m313/313\u001b[0m \u001b[32m━━━━━━━━━━━━━━━━━━━━\u001b[0m\u001b[37m\u001b[0m \u001b[1m3s\u001b[0m 9ms/step - accuracy: 0.6646 - loss: 0.6332 - val_accuracy: 0.6700 - val_loss: 0.6300\n",
      "Epoch 12/100\n",
      "\u001b[1m313/313\u001b[0m \u001b[32m━━━━━━━━━━━━━━━━━━━━\u001b[0m\u001b[37m\u001b[0m \u001b[1m3s\u001b[0m 9ms/step - accuracy: 0.6728 - loss: 0.6236 - val_accuracy: 0.6790 - val_loss: 0.6230\n",
      "Epoch 13/100\n",
      "\u001b[1m313/313\u001b[0m \u001b[32m━━━━━━━━━━━━━━━━━━━━\u001b[0m\u001b[37m\u001b[0m \u001b[1m3s\u001b[0m 9ms/step - accuracy: 0.6833 - loss: 0.6159 - val_accuracy: 0.6846 - val_loss: 0.6154\n",
      "Epoch 14/100\n",
      "\u001b[1m313/313\u001b[0m \u001b[32m━━━━━━━━━━━━━━━━━━━━\u001b[0m\u001b[37m\u001b[0m \u001b[1m3s\u001b[0m 9ms/step - accuracy: 0.6893 - loss: 0.6085 - val_accuracy: 0.6880 - val_loss: 0.6103\n",
      "Epoch 15/100\n",
      "\u001b[1m313/313\u001b[0m \u001b[32m━━━━━━━━━━━━━━━━━━━━\u001b[0m\u001b[37m\u001b[0m \u001b[1m3s\u001b[0m 9ms/step - accuracy: 0.6956 - loss: 0.6022 - val_accuracy: 0.6914 - val_loss: 0.6021\n",
      "Epoch 16/100\n",
      "\u001b[1m313/313\u001b[0m \u001b[32m━━━━━━━━━━━━━━━━━━━━\u001b[0m\u001b[37m\u001b[0m \u001b[1m3s\u001b[0m 9ms/step - accuracy: 0.6991 - loss: 0.5959 - val_accuracy: 0.6928 - val_loss: 0.5987\n",
      "Epoch 17/100\n",
      "\u001b[1m313/313\u001b[0m \u001b[32m━━━━━━━━━━━━━━━━━━━━\u001b[0m\u001b[37m\u001b[0m \u001b[1m3s\u001b[0m 9ms/step - accuracy: 0.7017 - loss: 0.5903 - val_accuracy: 0.6958 - val_loss: 0.5959\n",
      "Epoch 18/100\n",
      "\u001b[1m313/313\u001b[0m \u001b[32m━━━━━━━━━━━━━━━━━━━━\u001b[0m\u001b[37m\u001b[0m \u001b[1m3s\u001b[0m 9ms/step - accuracy: 0.7101 - loss: 0.5848 - val_accuracy: 0.7016 - val_loss: 0.5899\n",
      "Epoch 19/100\n",
      "\u001b[1m313/313\u001b[0m \u001b[32m━━━━━━━━━━━━━━━━━━━━\u001b[0m\u001b[37m\u001b[0m \u001b[1m3s\u001b[0m 9ms/step - accuracy: 0.7137 - loss: 0.5787 - val_accuracy: 0.7076 - val_loss: 0.5853\n",
      "Epoch 20/100\n",
      "\u001b[1m313/313\u001b[0m \u001b[32m━━━━━━━━━━━━━━━━━━━━\u001b[0m\u001b[37m\u001b[0m \u001b[1m3s\u001b[0m 9ms/step - accuracy: 0.7123 - loss: 0.5795 - val_accuracy: 0.7072 - val_loss: 0.5829\n",
      "Epoch 21/100\n",
      "\u001b[1m313/313\u001b[0m \u001b[32m━━━━━━━━━━━━━━━━━━━━\u001b[0m\u001b[37m\u001b[0m \u001b[1m3s\u001b[0m 9ms/step - accuracy: 0.7203 - loss: 0.5707 - val_accuracy: 0.7096 - val_loss: 0.5795\n",
      "Epoch 22/100\n",
      "\u001b[1m313/313\u001b[0m \u001b[32m━━━━━━━━━━━━━━━━━━━━\u001b[0m\u001b[37m\u001b[0m \u001b[1m3s\u001b[0m 9ms/step - accuracy: 0.7077 - loss: 0.5773 - val_accuracy: 0.7106 - val_loss: 0.5776\n",
      "Epoch 23/100\n",
      "\u001b[1m313/313\u001b[0m \u001b[32m━━━━━━━━━━━━━━━━━━━━\u001b[0m\u001b[37m\u001b[0m \u001b[1m3s\u001b[0m 9ms/step - accuracy: 0.7180 - loss: 0.5678 - val_accuracy: 0.7088 - val_loss: 0.5768\n",
      "Epoch 24/100\n",
      "\u001b[1m313/313\u001b[0m \u001b[32m━━━━━━━━━━━━━━━━━━━━\u001b[0m\u001b[37m\u001b[0m \u001b[1m3s\u001b[0m 9ms/step - accuracy: 0.7175 - loss: 0.5673 - val_accuracy: 0.7164 - val_loss: 0.5703\n",
      "Epoch 25/100\n",
      "\u001b[1m313/313\u001b[0m \u001b[32m━━━━━━━━━━━━━━━━━━━━\u001b[0m\u001b[37m\u001b[0m \u001b[1m3s\u001b[0m 9ms/step - accuracy: 0.7233 - loss: 0.5653 - val_accuracy: 0.7164 - val_loss: 0.5689\n",
      "Epoch 26/100\n",
      "\u001b[1m313/313\u001b[0m \u001b[32m━━━━━━━━━━━━━━━━━━━━\u001b[0m\u001b[37m\u001b[0m \u001b[1m3s\u001b[0m 9ms/step - accuracy: 0.7179 - loss: 0.5653 - val_accuracy: 0.7188 - val_loss: 0.5662\n",
      "Epoch 27/100\n",
      "\u001b[1m313/313\u001b[0m \u001b[32m━━━━━━━━━━━━━━━━━━━━\u001b[0m\u001b[37m\u001b[0m \u001b[1m3s\u001b[0m 9ms/step - accuracy: 0.7318 - loss: 0.5531 - val_accuracy: 0.7152 - val_loss: 0.5665\n",
      "Epoch 28/100\n",
      "\u001b[1m313/313\u001b[0m \u001b[32m━━━━━━━━━━━━━━━━━━━━\u001b[0m\u001b[37m\u001b[0m \u001b[1m3s\u001b[0m 10ms/step - accuracy: 0.7308 - loss: 0.5541 - val_accuracy: 0.7176 - val_loss: 0.5657\n",
      "Epoch 29/100\n",
      "\u001b[1m313/313\u001b[0m \u001b[32m━━━━━━━━━━━━━━━━━━━━\u001b[0m\u001b[37m\u001b[0m \u001b[1m3s\u001b[0m 9ms/step - accuracy: 0.7285 - loss: 0.5534 - val_accuracy: 0.7112 - val_loss: 0.5707\n",
      "Epoch 30/100\n",
      "\u001b[1m313/313\u001b[0m \u001b[32m━━━━━━━━━━━━━━━━━━━━\u001b[0m\u001b[37m\u001b[0m \u001b[1m3s\u001b[0m 9ms/step - accuracy: 0.7241 - loss: 0.5559 - val_accuracy: 0.7188 - val_loss: 0.5631\n",
      "Epoch 31/100\n",
      "\u001b[1m313/313\u001b[0m \u001b[32m━━━━━━━━━━━━━━━━━━━━\u001b[0m\u001b[37m\u001b[0m \u001b[1m3s\u001b[0m 10ms/step - accuracy: 0.7252 - loss: 0.5556 - val_accuracy: 0.7114 - val_loss: 0.5667\n",
      "Epoch 32/100\n",
      "\u001b[1m313/313\u001b[0m \u001b[32m━━━━━━━━━━━━━━━━━━━━\u001b[0m\u001b[37m\u001b[0m \u001b[1m3s\u001b[0m 9ms/step - accuracy: 0.7247 - loss: 0.5558 - val_accuracy: 0.7134 - val_loss: 0.5631\n",
      "Epoch 33/100\n",
      "\u001b[1m313/313\u001b[0m \u001b[32m━━━━━━━━━━━━━━━━━━━━\u001b[0m\u001b[37m\u001b[0m \u001b[1m3s\u001b[0m 9ms/step - accuracy: 0.7358 - loss: 0.5455 - val_accuracy: 0.7152 - val_loss: 0.5600\n",
      "Epoch 34/100\n",
      "\u001b[1m313/313\u001b[0m \u001b[32m━━━━━━━━━━━━━━━━━━━━\u001b[0m\u001b[37m\u001b[0m \u001b[1m3s\u001b[0m 9ms/step - accuracy: 0.7299 - loss: 0.5507 - val_accuracy: 0.7148 - val_loss: 0.5616\n",
      "Epoch 35/100\n",
      "\u001b[1m313/313\u001b[0m \u001b[32m━━━━━━━━━━━━━━━━━━━━\u001b[0m\u001b[37m\u001b[0m \u001b[1m3s\u001b[0m 9ms/step - accuracy: 0.7406 - loss: 0.5396 - val_accuracy: 0.7196 - val_loss: 0.5591\n",
      "Epoch 36/100\n",
      "\u001b[1m313/313\u001b[0m \u001b[32m━━━━━━━━━━━━━━━━━━━━\u001b[0m\u001b[37m\u001b[0m \u001b[1m3s\u001b[0m 9ms/step - accuracy: 0.7339 - loss: 0.5436 - val_accuracy: 0.7222 - val_loss: 0.5590\n",
      "Epoch 37/100\n",
      "\u001b[1m313/313\u001b[0m \u001b[32m━━━━━━━━━━━━━━━━━━━━\u001b[0m\u001b[37m\u001b[0m \u001b[1m3s\u001b[0m 9ms/step - accuracy: 0.7346 - loss: 0.5427 - val_accuracy: 0.7226 - val_loss: 0.5573\n",
      "Epoch 38/100\n",
      "\u001b[1m313/313\u001b[0m \u001b[32m━━━━━━━━━━━━━━━━━━━━\u001b[0m\u001b[37m\u001b[0m \u001b[1m3s\u001b[0m 9ms/step - accuracy: 0.7373 - loss: 0.5428 - val_accuracy: 0.7226 - val_loss: 0.5568\n",
      "Epoch 39/100\n",
      "\u001b[1m313/313\u001b[0m \u001b[32m━━━━━━━━━━━━━━━━━━━━\u001b[0m\u001b[37m\u001b[0m \u001b[1m3s\u001b[0m 9ms/step - accuracy: 0.7371 - loss: 0.5413 - val_accuracy: 0.7220 - val_loss: 0.5568\n",
      "Epoch 40/100\n",
      "\u001b[1m313/313\u001b[0m \u001b[32m━━━━━━━━━━━━━━━━━━━━\u001b[0m\u001b[37m\u001b[0m \u001b[1m3s\u001b[0m 9ms/step - accuracy: 0.7352 - loss: 0.5431 - val_accuracy: 0.7226 - val_loss: 0.5554\n",
      "Epoch 41/100\n",
      "\u001b[1m313/313\u001b[0m \u001b[32m━━━━━━━━━━━━━━━━━━━━\u001b[0m\u001b[37m\u001b[0m \u001b[1m3s\u001b[0m 9ms/step - accuracy: 0.7399 - loss: 0.5376 - val_accuracy: 0.7196 - val_loss: 0.5557\n",
      "Epoch 42/100\n",
      "\u001b[1m313/313\u001b[0m \u001b[32m━━━━━━━━━━━━━━━━━━━━\u001b[0m\u001b[37m\u001b[0m \u001b[1m3s\u001b[0m 9ms/step - accuracy: 0.7430 - loss: 0.5369 - val_accuracy: 0.7230 - val_loss: 0.5558\n",
      "Epoch 43/100\n",
      "\u001b[1m313/313\u001b[0m \u001b[32m━━━━━━━━━━━━━━━━━━━━\u001b[0m\u001b[37m\u001b[0m \u001b[1m3s\u001b[0m 10ms/step - accuracy: 0.7404 - loss: 0.5366 - val_accuracy: 0.7218 - val_loss: 0.5529\n",
      "Epoch 44/100\n",
      "\u001b[1m313/313\u001b[0m \u001b[32m━━━━━━━━━━━━━━━━━━━━\u001b[0m\u001b[37m\u001b[0m \u001b[1m3s\u001b[0m 9ms/step - accuracy: 0.7345 - loss: 0.5415 - val_accuracy: 0.7222 - val_loss: 0.5565\n",
      "Epoch 45/100\n",
      "\u001b[1m313/313\u001b[0m \u001b[32m━━━━━━━━━━━━━━━━━━━━\u001b[0m\u001b[37m\u001b[0m \u001b[1m3s\u001b[0m 9ms/step - accuracy: 0.7447 - loss: 0.5313 - val_accuracy: 0.7240 - val_loss: 0.5531\n",
      "Epoch 46/100\n",
      "\u001b[1m313/313\u001b[0m \u001b[32m━━━━━━━━━━━━━━━━━━━━\u001b[0m\u001b[37m\u001b[0m \u001b[1m3s\u001b[0m 9ms/step - accuracy: 0.7416 - loss: 0.5367 - val_accuracy: 0.7244 - val_loss: 0.5548\n"
     ]
    }
   ],
   "source": [
    "#순환 신경망 훈련하기 \n",
    "\n",
    "rmsprop = keras.optimizers.RMSprop(learning_rate=1e-4) #학습률 0.0001로 지정\n",
    "model.compile(optimizer=rmsprop, loss='binary_crossentropy',\n",
    "              metrics=['accuracy'])\n",
    "\n",
    "checkpoint_cb = keras.callbacks.ModelCheckpoint('best-simplernn-model.keras',\n",
    "                                                save_best_only=True)\n",
    "early_stopping_cb = keras.callbacks.EarlyStopping(patience=3,\n",
    "                                                  restore_best_weights=True)\n",
    "\n",
    "history = model.fit(train_oh, train_target, epochs=100, batch_size=64,\n",
    "                    validation_data=(val_oh, val_target),\n",
    "                    callbacks=[checkpoint_cb, early_stopping_cb])"
   ]
  },
  {
   "cell_type": "code",
   "execution_count": 79,
   "id": "af42e840-6f35-49b4-a33c-0cf2459f3e5d",
   "metadata": {},
   "outputs": [
    {
     "data": {
      "image/png": "[encoded data removed]",
      "text/plain": [
       "<Figure size 640x480 with 1 Axes>"
      ]
     },
     "metadata": {},
     "output_type": "display_data"
    }
   ],
   "source": [
    "#훈련 손실과 검증 손실을 그래프로 그려보기\n",
    "\n",
    "plt.plot(history.history['loss'])\n",
    "plt.plot(history.history['val_loss'])\n",
    "plt.xlabel('epoch')\n",
    "plt.ylabel('loss')\n",
    "plt.legend(['train', 'val'])\n",
    "plt.show()"
   ]
  },
  {
   "cell_type": "code",
   "execution_count": 81,
   "id": "50a3f51c-4d29-4a58-ad0a-11cd01231e12",
   "metadata": {},
   "outputs": [],
   "source": [
    "#훈련손실은 꾸준히 감소하고 있지만 검증손실은 대략 스무번째 에포크부터 감소가 둔해지고 있다."
   ]
  },
  {
   "cell_type": "code",
   "execution_count": 83,
   "id": "3ce55c81-42f6-4d5a-b1fd-04da57046b99",
   "metadata": {},
   "outputs": [
    {
     "name": "stdout",
     "output_type": "stream",
     "text": [
      "8000000 3200000000\n"
     ]
    }
   ],
   "source": [
    "print(train_seq.nbytes, train_oh.nbytes)"
   ]
  },
  {
   "cell_type": "code",
   "execution_count": 85,
   "id": "af56c17c-8c65-4034-a011-b87dc09e61b2",
   "metadata": {},
   "outputs": [],
   "source": [
    "#원-핫 인코딩의 단점 .. 입력 데이터가 엄청 커진다."
   ]
  },
  {
   "cell_type": "code",
   "execution_count": 87,
   "id": "a6dcc16c-cc4c-4800-836e-7cb3f4c9447c",
   "metadata": {},
   "outputs": [
    {
     "name": "stderr",
     "output_type": "stream",
     "text": [
      "/opt/anaconda3/lib/python3.12/site-packages/keras/src/layers/core/embedding.py:93: UserWarning: Do not pass an `input_shape`/`input_dim` argument to a layer. When using Sequential models, prefer using an `Input(shape)` object as the first layer in the model instead.\n",
      "  super().__init__(**kwargs)\n"
     ]
    },
    {
     "data": {
      "text/html": [
       "<pre style=\"white-space:pre;overflow-x:auto;line-height:normal;font-family:Menlo,'DejaVu Sans Mono',consolas,'Courier New',monospace\"><span style=\"font-weight: bold\">Model: \"sequential_1\"</span>\n",
       "</pre>\n"
      ],
      "text/plain": [
       "\u001b[1mModel: \"sequential_1\"\u001b[0m\n"
      ]
     },
     "metadata": {},
     "output_type": "display_data"
    },
    {
     "data": {
      "text/html": [
       "<pre style=\"white-space:pre;overflow-x:auto;line-height:normal;font-family:Menlo,'DejaVu Sans Mono',consolas,'Courier New',monospace\">┏━━━━━━━━━━━━━━━━━━━━━━━━━━━━━━━━━┳━━━━━━━━━━━━━━━━━━━━━━━━┳━━━━━━━━━━━━━━━┓\n",
       "┃<span style=\"font-weight: bold\"> Layer (type)                    </span>┃<span style=\"font-weight: bold\"> Output Shape           </span>┃<span style=\"font-weight: bold\">       Param # </span>┃\n",
       "┡━━━━━━━━━━━━━━━━━━━━━━━━━━━━━━━━━╇━━━━━━━━━━━━━━━━━━━━━━━━╇━━━━━━━━━━━━━━━┩\n",
       "│ embedding (<span style=\"color: #0087ff; text-decoration-color: #0087ff\">Embedding</span>)           │ (<span style=\"color: #00d7ff; text-decoration-color: #00d7ff\">None</span>, <span style=\"color: #00af00; text-decoration-color: #00af00\">100</span>, <span style=\"color: #00af00; text-decoration-color: #00af00\">16</span>)        │         <span style=\"color: #00af00; text-decoration-color: #00af00\">3,200</span> │\n",
       "├─────────────────────────────────┼────────────────────────┼───────────────┤\n",
       "│ simple_rnn_1 (<span style=\"color: #0087ff; text-decoration-color: #0087ff\">SimpleRNN</span>)        │ (<span style=\"color: #00d7ff; text-decoration-color: #00d7ff\">None</span>, <span style=\"color: #00af00; text-decoration-color: #00af00\">8</span>)              │           <span style=\"color: #00af00; text-decoration-color: #00af00\">200</span> │\n",
       "├─────────────────────────────────┼────────────────────────┼───────────────┤\n",
       "│ dense_1 (<span style=\"color: #0087ff; text-decoration-color: #0087ff\">Dense</span>)                 │ (<span style=\"color: #00d7ff; text-decoration-color: #00d7ff\">None</span>, <span style=\"color: #00af00; text-decoration-color: #00af00\">1</span>)              │             <span style=\"color: #00af00; text-decoration-color: #00af00\">9</span> │\n",
       "└─────────────────────────────────┴────────────────────────┴───────────────┘\n",
       "</pre>\n"
      ],
      "text/plain": [
       "┏━━━━━━━━━━━━━━━━━━━━━━━━━━━━━━━━━┳━━━━━━━━━━━━━━━━━━━━━━━━┳━━━━━━━━━━━━━━━┓\n",
       "┃\u001b[1m \u001b[0m\u001b[1mLayer (type)                   \u001b[0m\u001b[1m \u001b[0m┃\u001b[1m \u001b[0m\u001b[1mOutput Shape          \u001b[0m\u001b[1m \u001b[0m┃\u001b[1m \u001b[0m\u001b[1m      Param #\u001b[0m\u001b[1m \u001b[0m┃\n",
       "┡━━━━━━━━━━━━━━━━━━━━━━━━━━━━━━━━━╇━━━━━━━━━━━━━━━━━━━━━━━━╇━━━━━━━━━━━━━━━┩\n",
       "│ embedding (\u001b[38;5;33mEmbedding\u001b[0m)           │ (\u001b[38;5;45mNone\u001b[0m, \u001b[38;5;34m100\u001b[0m, \u001b[38;5;34m16\u001b[0m)        │         \u001b[38;5;34m3,200\u001b[0m │\n",
       "├─────────────────────────────────┼────────────────────────┼───────────────┤\n",
       "│ simple_rnn_1 (\u001b[38;5;33mSimpleRNN\u001b[0m)        │ (\u001b[38;5;45mNone\u001b[0m, \u001b[38;5;34m8\u001b[0m)              │           \u001b[38;5;34m200\u001b[0m │\n",
       "├─────────────────────────────────┼────────────────────────┼───────────────┤\n",
       "│ dense_1 (\u001b[38;5;33mDense\u001b[0m)                 │ (\u001b[38;5;45mNone\u001b[0m, \u001b[38;5;34m1\u001b[0m)              │             \u001b[38;5;34m9\u001b[0m │\n",
       "└─────────────────────────────────┴────────────────────────┴───────────────┘\n"
      ]
     },
     "metadata": {},
     "output_type": "display_data"
    },
    {
     "data": {
      "text/html": [
       "<pre style=\"white-space:pre;overflow-x:auto;line-height:normal;font-family:Menlo,'DejaVu Sans Mono',consolas,'Courier New',monospace\"><span style=\"font-weight: bold\"> Total params: </span><span style=\"color: #00af00; text-decoration-color: #00af00\">3,409</span> (13.32 KB)\n",
       "</pre>\n"
      ],
      "text/plain": [
       "\u001b[1m Total params: \u001b[0m\u001b[38;5;34m3,409\u001b[0m (13.32 KB)\n"
      ]
     },
     "metadata": {},
     "output_type": "display_data"
    },
    {
     "data": {
      "text/html": [
       "<pre style=\"white-space:pre;overflow-x:auto;line-height:normal;font-family:Menlo,'DejaVu Sans Mono',consolas,'Courier New',monospace\"><span style=\"font-weight: bold\"> Trainable params: </span><span style=\"color: #00af00; text-decoration-color: #00af00\">3,409</span> (13.32 KB)\n",
       "</pre>\n"
      ],
      "text/plain": [
       "\u001b[1m Trainable params: \u001b[0m\u001b[38;5;34m3,409\u001b[0m (13.32 KB)\n"
      ]
     },
     "metadata": {},
     "output_type": "display_data"
    },
    {
     "data": {
      "text/html": [
       "<pre style=\"white-space:pre;overflow-x:auto;line-height:normal;font-family:Menlo,'DejaVu Sans Mono',consolas,'Courier New',monospace\"><span style=\"font-weight: bold\"> Non-trainable params: </span><span style=\"color: #00af00; text-decoration-color: #00af00\">0</span> (0.00 B)\n",
       "</pre>\n"
      ],
      "text/plain": [
       "\u001b[1m Non-trainable params: \u001b[0m\u001b[38;5;34m0\u001b[0m (0.00 B)\n"
      ]
     },
     "metadata": {},
     "output_type": "display_data"
    }
   ],
   "source": [
    "#원-핫 인코딩 대신 단어 임베딩 사용하기 .. 단어를 고정된 크기의 실수 벡터로 바꾸어준다.\n",
    "#훨씬 작은 크기로도 단어를 잘 표현할 수 있다.\n",
    "#단어 임베딩의 장점은 입력으로 정수 데이터를 받기 때문에 원-핫 인코딩으로 변경된 것이 아닌 train_seq를 사용할 수 있다.\n",
    "\n",
    "model2 = keras.Sequential()\n",
    "\n",
    "model2.add(keras.layers.Embedding(200, 16, input_shape=(100,))) #16은 임베딩 벡터의 크기 (200은 어휘 사전의 크기, 100은 샘플의 길이)\n",
    "model2.add(keras.layers.SimpleRNN(8))\n",
    "model2.add(keras.layers.Dense(1, activation='sigmoid'))\n",
    "\n",
    "model2.summary()"
   ]
  },
  {
   "cell_type": "code",
   "execution_count": 89,
   "id": "f4e5b959-ad37-49f5-97cd-fcedf1248791",
   "metadata": {},
   "outputs": [
    {
     "name": "stdout",
     "output_type": "stream",
     "text": [
      "Epoch 1/100\n",
      "\u001b[1m313/313\u001b[0m \u001b[32m━━━━━━━━━━━━━━━━━━━━\u001b[0m\u001b[37m\u001b[0m \u001b[1m3s\u001b[0m 9ms/step - accuracy: 0.5042 - loss: 0.6989 - val_accuracy: 0.5242 - val_loss: 0.6918\n",
      "Epoch 2/100\n",
      "\u001b[1m313/313\u001b[0m \u001b[32m━━━━━━━━━━━━━━━━━━━━\u001b[0m\u001b[37m\u001b[0m \u001b[1m3s\u001b[0m 9ms/step - accuracy: 0.5450 - loss: 0.6880 - val_accuracy: 0.6206 - val_loss: 0.6689\n",
      "Epoch 3/100\n",
      "\u001b[1m313/313\u001b[0m \u001b[32m━━━━━━━━━━━━━━━━━━━━\u001b[0m\u001b[37m\u001b[0m \u001b[1m3s\u001b[0m 9ms/step - accuracy: 0.6309 - loss: 0.6644 - val_accuracy: 0.6740 - val_loss: 0.6460\n",
      "Epoch 4/100\n",
      "\u001b[1m313/313\u001b[0m \u001b[32m━━━━━━━━━━━━━━━━━━━━\u001b[0m\u001b[37m\u001b[0m \u001b[1m3s\u001b[0m 9ms/step - accuracy: 0.6675 - loss: 0.6448 - val_accuracy: 0.6316 - val_loss: 0.6471\n",
      "Epoch 5/100\n",
      "\u001b[1m313/313\u001b[0m \u001b[32m━━━━━━━━━━━━━━━━━━━━\u001b[0m\u001b[37m\u001b[0m \u001b[1m3s\u001b[0m 9ms/step - accuracy: 0.6883 - loss: 0.6232 - val_accuracy: 0.6642 - val_loss: 0.6239\n",
      "Epoch 6/100\n",
      "\u001b[1m313/313\u001b[0m \u001b[32m━━━━━━━━━━━━━━━━━━━━\u001b[0m\u001b[37m\u001b[0m \u001b[1m3s\u001b[0m 9ms/step - accuracy: 0.7001 - loss: 0.6062 - val_accuracy: 0.6606 - val_loss: 0.6198\n",
      "Epoch 7/100\n",
      "\u001b[1m313/313\u001b[0m \u001b[32m━━━━━━━━━━━━━━━━━━━━\u001b[0m\u001b[37m\u001b[0m \u001b[1m3s\u001b[0m 9ms/step - accuracy: 0.7118 - loss: 0.5937 - val_accuracy: 0.7096 - val_loss: 0.5849\n",
      "Epoch 8/100\n",
      "\u001b[1m313/313\u001b[0m \u001b[32m━━━━━━━━━━━━━━━━━━━━\u001b[0m\u001b[37m\u001b[0m \u001b[1m3s\u001b[0m 9ms/step - accuracy: 0.7182 - loss: 0.5791 - val_accuracy: 0.7262 - val_loss: 0.5720\n",
      "Epoch 9/100\n",
      "\u001b[1m313/313\u001b[0m \u001b[32m━━━━━━━━━━━━━━━━━━━━\u001b[0m\u001b[37m\u001b[0m \u001b[1m3s\u001b[0m 9ms/step - accuracy: 0.7230 - loss: 0.5738 - val_accuracy: 0.7226 - val_loss: 0.5706\n",
      "Epoch 10/100\n",
      "\u001b[1m313/313\u001b[0m \u001b[32m━━━━━━━━━━━━━━━━━━━━\u001b[0m\u001b[37m\u001b[0m \u001b[1m3s\u001b[0m 9ms/step - accuracy: 0.7270 - loss: 0.5646 - val_accuracy: 0.7284 - val_loss: 0.5618\n",
      "Epoch 11/100\n",
      "\u001b[1m313/313\u001b[0m \u001b[32m━━━━━━━━━━━━━━━━━━━━\u001b[0m\u001b[37m\u001b[0m \u001b[1m3s\u001b[0m 9ms/step - accuracy: 0.7290 - loss: 0.5597 - val_accuracy: 0.7224 - val_loss: 0.5615\n",
      "Epoch 12/100\n",
      "\u001b[1m313/313\u001b[0m \u001b[32m━━━━━━━━━━━━━━━━━━━━\u001b[0m\u001b[37m\u001b[0m \u001b[1m3s\u001b[0m 9ms/step - accuracy: 0.7232 - loss: 0.5599 - val_accuracy: 0.7254 - val_loss: 0.5533\n",
      "Epoch 13/100\n",
      "\u001b[1m313/313\u001b[0m \u001b[32m━━━━━━━━━━━━━━━━━━━━\u001b[0m\u001b[37m\u001b[0m \u001b[1m3s\u001b[0m 9ms/step - accuracy: 0.7287 - loss: 0.5550 - val_accuracy: 0.7362 - val_loss: 0.5496\n",
      "Epoch 14/100\n",
      "\u001b[1m313/313\u001b[0m \u001b[32m━━━━━━━━━━━━━━━━━━━━\u001b[0m\u001b[37m\u001b[0m \u001b[1m3s\u001b[0m 9ms/step - accuracy: 0.7286 - loss: 0.5531 - val_accuracy: 0.7366 - val_loss: 0.5470\n",
      "Epoch 15/100\n",
      "\u001b[1m313/313\u001b[0m \u001b[32m━━━━━━━━━━━━━━━━━━━━\u001b[0m\u001b[37m\u001b[0m \u001b[1m3s\u001b[0m 8ms/step - accuracy: 0.7313 - loss: 0.5484 - val_accuracy: 0.7356 - val_loss: 0.5450\n",
      "Epoch 16/100\n",
      "\u001b[1m313/313\u001b[0m \u001b[32m━━━━━━━━━━━━━━━━━━━━\u001b[0m\u001b[37m\u001b[0m \u001b[1m3s\u001b[0m 9ms/step - accuracy: 0.7378 - loss: 0.5439 - val_accuracy: 0.7280 - val_loss: 0.5526\n",
      "Epoch 17/100\n",
      "\u001b[1m313/313\u001b[0m \u001b[32m━━━━━━━━━━━━━━━━━━━━\u001b[0m\u001b[37m\u001b[0m \u001b[1m3s\u001b[0m 9ms/step - accuracy: 0.7361 - loss: 0.5408 - val_accuracy: 0.7314 - val_loss: 0.5431\n",
      "Epoch 18/100\n",
      "\u001b[1m313/313\u001b[0m \u001b[32m━━━━━━━━━━━━━━━━━━━━\u001b[0m\u001b[37m\u001b[0m \u001b[1m3s\u001b[0m 9ms/step - accuracy: 0.7372 - loss: 0.5389 - val_accuracy: 0.7258 - val_loss: 0.5552\n",
      "Epoch 19/100\n",
      "\u001b[1m313/313\u001b[0m \u001b[32m━━━━━━━━━━━━━━━━━━━━\u001b[0m\u001b[37m\u001b[0m \u001b[1m3s\u001b[0m 9ms/step - accuracy: 0.7416 - loss: 0.5340 - val_accuracy: 0.7374 - val_loss: 0.5419\n",
      "Epoch 20/100\n",
      "\u001b[1m313/313\u001b[0m \u001b[32m━━━━━━━━━━━━━━━━━━━━\u001b[0m\u001b[37m\u001b[0m \u001b[1m3s\u001b[0m 9ms/step - accuracy: 0.7373 - loss: 0.5364 - val_accuracy: 0.7346 - val_loss: 0.5415\n",
      "Epoch 21/100\n",
      "\u001b[1m313/313\u001b[0m \u001b[32m━━━━━━━━━━━━━━━━━━━━\u001b[0m\u001b[37m\u001b[0m \u001b[1m3s\u001b[0m 9ms/step - accuracy: 0.7413 - loss: 0.5298 - val_accuracy: 0.7362 - val_loss: 0.5413\n",
      "Epoch 22/100\n",
      "\u001b[1m313/313\u001b[0m \u001b[32m━━━━━━━━━━━━━━━━━━━━\u001b[0m\u001b[37m\u001b[0m \u001b[1m3s\u001b[0m 9ms/step - accuracy: 0.7381 - loss: 0.5314 - val_accuracy: 0.7192 - val_loss: 0.5563\n",
      "Epoch 23/100\n",
      "\u001b[1m313/313\u001b[0m \u001b[32m━━━━━━━━━━━━━━━━━━━━\u001b[0m\u001b[37m\u001b[0m \u001b[1m3s\u001b[0m 9ms/step - accuracy: 0.7393 - loss: 0.5322 - val_accuracy: 0.7370 - val_loss: 0.5393\n",
      "Epoch 24/100\n",
      "\u001b[1m313/313\u001b[0m \u001b[32m━━━━━━━━━━━━━━━━━━━━\u001b[0m\u001b[37m\u001b[0m \u001b[1m3s\u001b[0m 9ms/step - accuracy: 0.7467 - loss: 0.5260 - val_accuracy: 0.7366 - val_loss: 0.5397\n",
      "Epoch 25/100\n",
      "\u001b[1m313/313\u001b[0m \u001b[32m━━━━━━━━━━━━━━━━━━━━\u001b[0m\u001b[37m\u001b[0m \u001b[1m3s\u001b[0m 9ms/step - accuracy: 0.7437 - loss: 0.5294 - val_accuracy: 0.7268 - val_loss: 0.5463\n",
      "Epoch 26/100\n",
      "\u001b[1m313/313\u001b[0m \u001b[32m━━━━━━━━━━━━━━━━━━━━\u001b[0m\u001b[37m\u001b[0m \u001b[1m3s\u001b[0m 9ms/step - accuracy: 0.7465 - loss: 0.5206 - val_accuracy: 0.7330 - val_loss: 0.5425\n"
     ]
    }
   ],
   "source": [
    "#모델 훈련하기\n",
    "\n",
    "rmsprop = keras.optimizers.RMSprop(learning_rate=1e-4)\n",
    "model2.compile(optimizer=rmsprop, loss='binary_crossentropy',\n",
    "               metrics=['accuracy'])\n",
    "\n",
    "checkpoint_cb = keras.callbacks.ModelCheckpoint('best-embedding-model.keras',\n",
    "                                                save_best_only=True)\n",
    "early_stopping_cb = keras.callbacks.EarlyStopping(patience=3,\n",
    "                                                  restore_best_weights=True)\n",
    "\n",
    "history = model2.fit(train_seq, train_target, epochs=100, batch_size=64,\n",
    "                     validation_data=(val_seq, val_target),\n",
    "                     callbacks=[checkpoint_cb, early_stopping_cb])"
   ]
  },
  {
   "cell_type": "code",
   "execution_count": 91,
   "id": "50b1d170-407a-4131-8d7a-3cfb2c17344d",
   "metadata": {},
   "outputs": [
    {
     "data": {
      "image/png": "[encoded data removed]",
      "text/plain": [
       "<Figure size 640x480 with 1 Axes>"
      ]
     },
     "metadata": {},
     "output_type": "display_data"
    }
   ],
   "source": [
    "#출력 결과 -> 원-핫 인코딩을 사용한 모델과 성능은 비슷하고, 가중치 개수는 훨씬 작아지고 훈련 세트의 길이도 훨씬 줄어들었다.\n",
    "\n",
    "#훈련 손실과 검증 손실을 그래프로 출력\n",
    "plt.plot(history.history['loss'])\n",
    "plt.plot(history.history['val_loss'])\n",
    "plt.xlabel('epoch')\n",
    "plt.ylabel('loss')\n",
    "plt.legend(['train', 'val'])\n",
    "plt.show()"
   ]
  }
 ],
 "metadata": {
  "kernelspec": {
   "display_name": "Python [conda env:base] *",
   "language": "python",
   "name": "conda-base-py"
  },
  "language_info": {
   "codemirror_mode": {
    "name": "ipython",
    "version": 3
   },
   "file_extension": ".py",
   "mimetype": "text/x-python",
   "name": "python",
   "nbconvert_exporter": "python",
   "pygments_lexer": "ipython3",
   "version": "3.12.7"
  }
 },
 "nbformat": 4,
 "nbformat_minor": 5
}
