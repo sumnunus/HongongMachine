{
 "cells": [
  {
   "cell_type": "markdown",
   "id": "690670b2-2798-40a0-9bfa-0e20cbce3dc0",
   "metadata": {},
   "source": [
    "합성곱의 정의 : 마치 입력 데이터에 마법의 도장을 찍어서 유용한 특성만 드러나게 하는 것으로 비유할 수 있다.\n",
    "\n",
    "\n",
    "\n",
    "합성곱의 동작 원리 : 밀집층의 계산 (입력 데이터 전체에 가중치 적용)과 조금 다르다. 일부에 가중치를 곱한다. 첫 번째 합성곱에 사용된 가중치와 절편이 두 번째 합성곱에도 동일하게 사용된다.\n",
    "이렇게 한 칸씩 아래로 이동하면서 출력을 만드는 것이 합성곱이다.\n",
    "\n",
    "\n",
    "\n",
    "\n",
    "\n",
    "\n",
    "\n",
    "*합성곱 층의 뉴런에 있는 가중치 개수는 정하기 나름이다. (또 다른 하이퍼파라미터이다.)\n",
    "\n",
    "\n",
    "*합성곱 신경망에서는 완전 연결 신경망과 달리 뉴런을 필터 혹은 커널이라고도 부른다."
   ]
  },
  {
   "cell_type": "markdown",
   "id": "95a07703-c4df-401c-a664-4992309dcb77",
   "metadata": {},
   "source": [
    "합성곱의 장점은 1차원이 아니라 2차원 입력에도 적용할 수 있다는 것이다."
   ]
  },
  {
   "cell_type": "markdown",
   "id": "9d7ae4a6-0c1f-4ca2-9171-460ca8e1139b",
   "metadata": {},
   "source": [
    "합성곱 계산을 통해 얻은 출력을 특별히 특성 맵이라고 부른다."
   ]
  },
  {
   "cell_type": "code",
   "execution_count": 9,
   "id": "e531292e-1527-4bb4-90dc-c22dc1c7eaf4",
   "metadata": {},
   "outputs": [],
   "source": [
    "#케라스 합성곱 층 만들기\n",
    "\n",
    "#from tensorflow import keras\n",
    "#keras.layers.Conv2D(10, kernel_size=(3, 3), activation='relu') -> 필터(도장)의 개수, 필터에 사용할 커널의 크기, 활성화 함수"
   ]
  },
  {
   "cell_type": "markdown",
   "id": "4ee41cd7-3b19-401b-8d98-e9a99a0ee9bf",
   "metadata": {},
   "source": [
    "합성곱 신경망의 정의 : 1개 이상의 합성곱 층을 쓴 인공 신경망 (합성곱 층만 사용한 신경망일 필요 X !!)"
   ]
  },
  {
   "cell_type": "markdown",
   "id": "a1b2aacc-9d5a-4de5-9a45-3a3a24585f85",
   "metadata": {},
   "source": [
    "커널 크기는 그대로 두고 출력의 크기를 입력과 동일하게 만들고 싶다면 ?!\n",
    "-> 더 큰 입력에 합성곱하는 척 해야 한다. = 패딩 (입력 배열의 주위를 가상의 원소로 채우는 것)\n",
    "\n",
    "\n",
    "패딩의 역할은 순전히 커널이 도장을 찍을 횟수를 늘려주는 것이다. 패딩은 0으로 채우기 때문에 계산에 영향을 미치지도 않는다. (=세임 패딩)\n",
    "\n",
    "\n",
    "패딩 없이 순수한 입력 배열에서만 합성곱을 하여 특성 맵을 만드는 경우는 밸리드 패딩이라고 한다. -> 특성 맵의 크기가 줄어들 수밖에 없다."
   ]
  },
  {
   "cell_type": "markdown",
   "id": "8d924ecc-2967-4414-9409-3d48f656906c",
   "metadata": {},
   "source": [
    "합성곱에서 패딩을 즐겨 사용하는 이유?\n",
    "-> 패딩을 사용하지 않으면 모서리는 계산에 적게 참여하게 된다."
   ]
  },
  {
   "cell_type": "markdown",
   "id": "45284e59-2955-47ee-999b-91ddd067a3e6",
   "metadata": {},
   "source": [
    "즉, 적절한 패딩은 이처럼 이미지의 주변에 있는 정보를 잃어버리지 않도록 도와준다."
   ]
  },
  {
   "cell_type": "code",
   "execution_count": 17,
   "id": "070ab77c-8c76-4ba5-a1f1-edbc42b91dfa",
   "metadata": {},
   "outputs": [],
   "source": [
    "#keras.layers.Conv2D(10, kernel_size=(3,3), activation='relu', padding='same') padding 매개변수로 패딩 지정\n",
    "#기본값은 valid로 밸리드 패딩을 나타낸다."
   ]
  },
  {
   "cell_type": "code",
   "execution_count": 19,
   "id": "e53fe6bc-d369-4a7c-acf2-5a873290ff22",
   "metadata": {},
   "outputs": [],
   "source": [
    "#지금까지 본 합성곱 연산은 좌우,위아래로 한 칸씩 이동했다. 하지만 두 칸씩 건너뛸 수도 있다. -> 도장을 찍는 횟수가 줄어드니 특성 맵의 크기는 작아진다!\n",
    "#이런 이동의 크기를 '스트라이드'라고 한다.\n",
    "\n",
    "#keras.layers.Conv2D(10, kernel_size=(3,3), activation='relu', padding='same', strides=1) #기본으로 스트라이드는 1이다."
   ]
  },
  {
   "cell_type": "code",
   "execution_count": 21,
   "id": "b828f5cf-44a3-4aba-a49b-f6f61542471c",
   "metadata": {},
   "outputs": [],
   "source": [
    "#풀링은 합성곱 층에서 만든 특성 맵의 가로세로 크기를 줄이는 역할을 수행한다. 하지만 특성맵의 개수는 줄이지 않는다.\n",
    "#풀링도 합성곱처럼 입력 위를 지나가면서 도장을 찍는다. 그러나, 가중치가 없다.\n",
    "#도장을 찍은 영역에서 가장 큰 값을 고르거나 평균값을 계산한다. (최대 풀링 / 평균 풀링)"
   ]
  },
  {
   "cell_type": "markdown",
   "id": "8a3c67f1-e583-4f13-9181-df0f5dfe7975",
   "metadata": {},
   "source": [
    "풀링은 커널과 달리 겹치는 부분 없이 이동한다."
   ]
  },
  {
   "cell_type": "code",
   "execution_count": 24,
   "id": "a10d4566-e391-43d5-a490-17ddbaf6b367",
   "metadata": {},
   "outputs": [],
   "source": [
    "#keras.layers.MaxPooling2D(2) 풀링의 크기 / 대부분 풀링의 크기는 2이다. 즉 가로세로 크기를 절반으로 줄인다.\n",
    "#keras.layers.MaxPooling2D(2, strides=2, padding='valid') 1. strides의 기본값은 자동으로 풀링의 크기이므로 따로 지정할 필요가 없다.\n",
    "#2. 풀링은 패딩을 하지 않기 때문에 padding 매개변수의 값 (valid)를 바꾸는 경우는 거의 없다."
   ]
  },
  {
   "cell_type": "markdown",
   "id": "d42e0ba7-22e7-408d-b604-56c9cc852c5a",
   "metadata": {},
   "source": [
    "평균 풀링을 제공하는 클래스는 AveragePooling2D이다."
   ]
  },
  {
   "cell_type": "markdown",
   "id": "bb712b0e-1e4e-4800-8953-e09c36d324c6",
   "metadata": {},
   "source": [
    "<합성곱 신경망의 전체 구조>\n",
    "1. 세임 패딩이므로 입력 데이터 주변에 1픽셀이 추가되었다.\n",
    "2. 특성 맵을 만들고 밀집층과 마찬가지로 활성화 함수를 적용한다. (렐루 함수 많이 사용)\n",
    "3. 풀링 층에서 특성 맵의 가로세로 크기를 줄인다.\n",
    "   풀링을 사용하는 이유는 합성곱에서 스트라이드를 크게 하여 특성 맵을 줄이는 것보다 풀링 층에서 크기를 줄이는 것이 경험적으로 더 나은 성능을 내기 때문이다.\n",
    "4. 밀집층인 출력층에 전달하려면 이 3차원 배열을 1차원으로 펼쳐야 한다. (flatten 클래스 이용) -> 출력층의 입력이 된다.\n",
    "5. 출력층에서 계산된 값은 소프트맥스 활성화 함수를 거쳐 최종 예측 확률이 된다."
   ]
  },
  {
   "cell_type": "code",
   "execution_count": 28,
   "id": "005c39d9-5e58-4b6c-86ee-ad2ea97fc8a7",
   "metadata": {},
   "outputs": [],
   "source": [
    "#3차원 배열인 입력에서는 합성곱을 수행하기 위해 커널도 3차원이 되어야한다.\n",
    "#입력이나 필터의 차원이 몇 개인지 상관없이 항상 출력은 하나의 값이다."
   ]
  },
  {
   "cell_type": "code",
   "execution_count": 30,
   "id": "d1e667a2-4991-43d0-925c-b97c8d60be53",
   "metadata": {},
   "outputs": [],
   "source": [
    "#합성곱 신경망은 너비와 높이는 점점 줄어들고 깊이는 점점 깊어지는 것이 특징이다.\n",
    "#마지막에 출력층 전에 특성 맵을 모두 펼쳐서 밀집층의 입력으로 사용한다."
   ]
  }
 ],
 "metadata": {
  "kernelspec": {
   "display_name": "Python [conda env:base] *",
   "language": "python",
   "name": "conda-base-py"
  },
  "language_info": {
   "codemirror_mode": {
    "name": "ipython",
    "version": 3
   },
   "file_extension": ".py",
   "mimetype": "text/x-python",
   "name": "python",
   "nbconvert_exporter": "python",
   "pygments_lexer": "ipython3",
   "version": "3.12.7"
  }
 },
 "nbformat": 4,
 "nbformat_minor": 5
}
