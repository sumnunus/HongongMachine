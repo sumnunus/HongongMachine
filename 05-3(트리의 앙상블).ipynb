{
 "cells": [
  {
   "cell_type": "code",
   "execution_count": 2,
   "id": "f29e5bb2-b09b-45de-871c-b787737cebd8",
   "metadata": {},
   "outputs": [],
   "source": [
    "#정형 데이터를 다루는 데 가장 뛰어난 성과를 내는 알고리즘인 '앙상블 학습 알고리즘'을 알아보자!"
   ]
  },
  {
   "cell_type": "code",
   "execution_count": 6,
   "id": "17597d56-3d0d-4147-8a69-f88d28257e2a",
   "metadata": {},
   "outputs": [],
   "source": [
    "#랜덤 포레스트 - 앙상블 학습의 대표 주자 중 하나\n",
    "#각 트리를 훈련하기 위한 데이터를 랜덤하게 만드는데, 한 샘플이 중복되어 추출될 수도 있다. -> 부트스트랩 샘플\n",
    "\n",
    "#랜덤 포레스트는 랜덤하게 선택한 샘플과 특성을 사용하기 때문에 훈련 세트에 과대적합 되는 것을 막아준다."
   ]
  },
  {
   "cell_type": "code",
   "execution_count": 8,
   "id": "7e40d126-8d11-448c-b6d0-696a4dd581bc",
   "metadata": {},
   "outputs": [],
   "source": [
    "#판다스로 데이터셋 불러온 후, 훈련 세트와 테스트 세트로 나누기\n",
    "\n",
    "import numpy as np\n",
    "import pandas as pd\n",
    "from sklearn.model_selection import train_test_split\n",
    "wine = pd.read_csv('https://bit.ly/wine_csv_data')\n",
    "data = wine[['alcohol', 'sugar', 'pH']].to_numpy()\n",
    "target = wine['class'].to_numpy()\n",
    "train_input, test_input, train_target, test_target = train_test_split(data, target, test_size=0.2, random_state=42)"
   ]
  },
  {
   "cell_type": "code",
   "execution_count": 10,
   "id": "49d70192-d036-480e-a83f-93903f6d7a9c",
   "metadata": {},
   "outputs": [
    {
     "name": "stdout",
     "output_type": "stream",
     "text": [
      "0.9973541965122431 0.8903229806766861\n"
     ]
    }
   ],
   "source": [
    "#랜덤 포레스트 클래시파이어 클래스를 화이트 와인 분류 문제에 적용\n",
    "from sklearn.model_selection import cross_validate\n",
    "from sklearn.ensemble import RandomForestClassifier\n",
    "rf = RandomForestClassifier(n_jobs = -1, random_state=42) #n_jobs = -1 -> 모든 cpu 코어를 사용\n",
    "\n",
    "scores = cross_validate(rf, train_input, train_target, \n",
    "                        return_train_score=True, n_jobs=-1)\n",
    "print(np.mean(scores['train_score']), np.mean(scores['test_score'])) #test_score은 검증 폴드의 점수 임을 기억하자!"
   ]
  },
  {
   "cell_type": "code",
   "execution_count": 12,
   "id": "397164f5-28e9-4076-a4a0-a00ad05043dd",
   "metadata": {},
   "outputs": [
    {
     "name": "stdout",
     "output_type": "stream",
     "text": [
      "[0.23183515 0.50059756 0.26756729]\n"
     ]
    }
   ],
   "source": [
    "#랜덤 포레스트는 결정 트리의 앙상블이기 때문에 DecisionTreeClassifier가 제공하는 중요한 매개변수를 모두 제공한다.\n",
    "#특히, 결정 트리의 큰 장점 중 하나인 특성 중요도를 계산하는 것 또한 제공 -> 각 결정 트리의 특성 중요도를 취합한다.\n",
    "\n",
    "rf.fit(train_input, train_target)\n",
    "print(rf.feature_importances_)"
   ]
  },
  {
   "cell_type": "code",
   "execution_count": 14,
   "id": "67460dba-9447-43ec-9794-62aef048ab27",
   "metadata": {},
   "outputs": [],
   "source": [
    "#두 번째 특성인 당도의 중요성이 감소하고, 알코올 도수와 pH 특성의 중요도가 조금 상승했다.\n",
    "#이런 이유는 랜덤 포레스트가 특성의 일부를 랜덤하게 선택하여 결정 트리를 훈련하기 때문이다. -> 좀 더 많은 특성이 훈련에 기여할 기회를 얻는다."
   ]
  },
  {
   "cell_type": "code",
   "execution_count": 16,
   "id": "6b01f517-3276-4655-b7c9-ce8368f428e3",
   "metadata": {},
   "outputs": [
    {
     "name": "stdout",
     "output_type": "stream",
     "text": [
      "0.8945545507023283\n"
     ]
    }
   ],
   "source": [
    "#부트스트랩 샘플에 포함되지 않고 남는 샘플을 OOB 샘플이라고 한다.\n",
    "#이 남는 샘플을 사용하여 부트스트랩 샘플로 훈련한 결정 트리를 평가할 수 있다. (마치 검증 세트의 역할!)\n",
    "\n",
    "rf = RandomForestClassifier(oob_score=True, n_jobs=-1, random_state=42)\n",
    "rf.fit(train_input, train_target)\n",
    "print(rf.oob_score_)"
   ]
  },
  {
   "cell_type": "code",
   "execution_count": 18,
   "id": "11c98fd5-9bf0-4ec6-a4cc-a439d8d35102",
   "metadata": {},
   "outputs": [],
   "source": [
    "#교차 검증에서 얻은 점수와 매우 비슷한 결과를 얻었다.\n",
    "#OOB 점수를 사용하면 교차 검증을 대신할 수 있어 결과적으로 훈련 세트에 더 많은 샘플을 사용할 수 있다."
   ]
  },
  {
   "cell_type": "code",
   "execution_count": 20,
   "id": "a6af18bc-77e9-4991-b26b-00b7a32e6c30",
   "metadata": {},
   "outputs": [],
   "source": [
    "#다음으로 알아볼 앙상블 학습 - 랜덤 포레스트와 아주 비슷한 엑스트라 트리!\n",
    "#랜덤 포레스트와 엑스트라 트리의 차이점 : 부트스트랩 샘플을 사용하지 않는다. -> 전체 훈련 세트를 사용, 대신 노드를 분할할 때 무작위로 분할!\n",
    "#하나의 결정 트리에서 특성을 무작위로 분할한다면 성능이 낮아지겠지만 많은 트리를 앙상블하기 때문에 과대적합을 막고 검증 세트의 점수를 높인다."
   ]
  },
  {
   "cell_type": "code",
   "execution_count": 22,
   "id": "74d75112-0289-44fe-9cd7-5ab654bd9f4e",
   "metadata": {},
   "outputs": [
    {
     "name": "stdout",
     "output_type": "stream",
     "text": [
      "0.9974503966084433 0.8887848893166506\n"
     ]
    }
   ],
   "source": [
    "from sklearn.ensemble import ExtraTreesClassifier\n",
    "et = ExtraTreesClassifier(n_jobs = -1, random_state=42)\n",
    "scores = cross_validate(et, train_input, train_target,\n",
    "                        return_train_score=True, n_jobs=-1)\n",
    "print(np.mean(scores['train_score']),np.mean(scores['test_score']))"
   ]
  },
  {
   "cell_type": "code",
   "execution_count": 24,
   "id": "afbc05e1-ead3-4de0-a08b-fb452e9812ef",
   "metadata": {},
   "outputs": [],
   "source": [
    "#랜덤 포레스트와 비슷한 결과를 얻었다.\n",
    "#이 예제는 특성이 많지 않아 두 모델의 차이가 크지 않다.\n",
    "\n",
    "#보통 엑스트라 트리가 무작위성이 좀 더 크기 때문에 랜덤 포레스트보다 더 많은 결정 트리를 훈련해야 한다.\n",
    "#하지만 랜덤하게 노드를 분할하 때문에 빠른 계산 속도가 엑스트라 트리의 장점이다."
   ]
  },
  {
   "cell_type": "code",
   "execution_count": 26,
   "id": "af37ad77-a595-41d3-b723-55c6d14530f4",
   "metadata": {},
   "outputs": [
    {
     "name": "stdout",
     "output_type": "stream",
     "text": [
      "[0.20183568 0.52242907 0.27573525]\n"
     ]
    }
   ],
   "source": [
    "et.fit(train_input, train_target)\n",
    "print(et.feature_importances_)"
   ]
  },
  {
   "cell_type": "code",
   "execution_count": 28,
   "id": "9d83f993-990e-4748-bbb7-bf1bca2ea8b8",
   "metadata": {},
   "outputs": [],
   "source": [
    "#앙상블 학습 - 그레이디언트 부스팅\n",
    "\n",
    "#깊이가 얕은 결정 트리 사용하여 이전 트리의 오차를 보완하는 방식\n",
    "#깊이가 얕은 결정 트리를 사용하기 때문에 과대적합에 강하고 일반적으로 높은 일반화 성능을 기대할 수 있다.\n",
    "#경사 하강법 사용 - 결정 트리를 계속 추가하면서 손실 함수가 가장 낮은 곳을 찾아 이동한다."
   ]
  },
  {
   "cell_type": "code",
   "execution_count": 30,
   "id": "2f5f3efb-81de-4dd3-bae7-c5fd1cb348a3",
   "metadata": {},
   "outputs": [
    {
     "name": "stdout",
     "output_type": "stream",
     "text": [
      "0.8881086892152563 0.8720430147331015\n"
     ]
    }
   ],
   "source": [
    "#교차 검증 점수 확인\n",
    "\n",
    "from sklearn.ensemble import GradientBoostingClassifier\n",
    "gb = GradientBoostingClassifier(random_state=42)\n",
    "scores = cross_validate(gb, train_input, train_target,\n",
    "                        return_train_score=True, n_jobs=-1)\n",
    "print(np.mean(scores['train_score']), np.mean(scores['test_score']))"
   ]
  },
  {
   "cell_type": "code",
   "execution_count": 32,
   "id": "253a1476-1c2a-4b68-b9aa-7e03c27b3d14",
   "metadata": {},
   "outputs": [
    {
     "name": "stdout",
     "output_type": "stream",
     "text": [
      "0.9464595437171814 0.8780082549788999\n"
     ]
    }
   ],
   "source": [
    "#거의 과대적합이 되지 않는다!!\n",
    "\n",
    "#결정 트리의 개수를 늘려보자.\n",
    "gb = GradientBoostingClassifier(n_estimators=500, learning_rate=0.2,\n",
    "                                random_state=42) #결정 트리의 개수 500개, 학습률 0.2 (기본값은 0.1)\n",
    "scores = cross_validate(gb, train_input, train_target,\n",
    "                        return_train_score=True, n_jobs=-1)\n",
    "print(np.mean(scores['train_score']), np.mean(scores['test_score']))"
   ]
  },
  {
   "cell_type": "code",
   "execution_count": 34,
   "id": "2bf07b3f-bd0f-43d2-989a-b1634d994ea5",
   "metadata": {},
   "outputs": [
    {
     "name": "stdout",
     "output_type": "stream",
     "text": [
      "[0.15881044 0.67988912 0.16130044]\n"
     ]
    }
   ],
   "source": [
    "#결정 트리 개수를 늘려도 과대적합을 잘 억제하고 있음을 알 수 있다.\n",
    "#특성 중요도 확인\n",
    "\n",
    "gb.fit(train_input, train_target)\n",
    "print(gb.feature_importances_)"
   ]
  },
  {
   "cell_type": "code",
   "execution_count": 36,
   "id": "0252a6f9-6d94-48cc-97c8-1499d08a9931",
   "metadata": {},
   "outputs": [],
   "source": [
    "#트리 훈련에 사용할 훈련 세트의 비율을 정하는 subsample이라는 매개변수가 하나 있다.\n",
    "#이 매개변수의 기본값은 1.0으로, 전체 훈련 세트를 사용한다. 하지만 1.0보다 작으면 훈련 세트의 일부를 사용한다.\n",
    "#이는 마치 경사 하강법 단계마다 일부 샘플을 랜덤하게 선택하여 진행하는 확률적 경사 하강법이나 미니배치 경사 하강법과 비슷하다."
   ]
  },
  {
   "cell_type": "code",
   "execution_count": 38,
   "id": "5568ae0c-9c15-4d45-b61d-5f669c1999b3",
   "metadata": {},
   "outputs": [
    {
     "name": "stderr",
     "output_type": "stream",
     "text": [
      "/opt/anaconda3/lib/python3.12/site-packages/sklearn/experimental/enable_hist_gradient_boosting.py:16: UserWarning: Since version 1.0, it is not needed to import enable_hist_gradient_boosting anymore. HistGradientBoostingClassifier and HistGradientBoostingRegressor are now stable and can be normally imported from sklearn.ensemble.\n",
      "  warnings.warn(\n"
     ]
    },
    {
     "name": "stdout",
     "output_type": "stream",
     "text": [
      "0.9321723946453317 0.8801241948619236\n"
     ]
    }
   ],
   "source": [
    "#히스토그램 기반 그레이디언트 부스팅\n",
    "\n",
    "#입력 특성을 256개의 구간으로 나눈다. 따라서 노드를 분할할 때 최적의 분할을 매우 빠르게 찾을 수 있다.\n",
    "#256개의 구간 중에 하나를 떼어 놓고 누락된 값을 할당하는 것으로 사용한다. -> 전처리 필요 x\n",
    "\n",
    "from sklearn.experimental import enable_hist_gradient_boosting\n",
    "from sklearn.ensemble import HistGradientBoostingClassifier\n",
    "hgb = HistGradientBoostingClassifier(random_state=42)\n",
    "scores = cross_validate(hgb, train_input, train_target,\n",
    "                        return_train_score=True)\n",
    "print(np.mean(scores['train_score']), np.mean(scores['test_score']))"
   ]
  },
  {
   "cell_type": "code",
   "execution_count": 42,
   "id": "b73177f1-6f49-46ba-a070-02094b55547e",
   "metadata": {},
   "outputs": [
    {
     "name": "stdout",
     "output_type": "stream",
     "text": [
      "[0.08876275 0.23438522 0.08027708]\n"
     ]
    }
   ],
   "source": [
    "#과대적합을 잘 억제하면서 그레이디언트 부스팅보다 좀 더 높은 성능을 제공한다.\n",
    "\n",
    "#특성 중요도 계산 -> permutation_importance() 함수 사용 / 이 함수는 특성을 하나씩 랜덤하게 섞어서 모델의 성능이 변화하는지 관찰하여 어떤 특성이 중요한지 계산\n",
    "\n",
    "from sklearn.inspection import permutation_importance\n",
    "\n",
    "hgb.fit(train_input, train_target)\n",
    "result = permutation_importance(hgb, train_input, train_target,\n",
    "                                n_repeats=10, random_state=42, n_jobs=-1) #n_repeats는 랜덤하게 섞을 횟수 지정\n",
    "print(result.importances_mean) #함수가 반환하는 객체는 반복하여 얻은 특성 중요도, 평균, 표준편차를 담고 있다."
   ]
  },
  {
   "cell_type": "code",
   "execution_count": 44,
   "id": "c52eb1fb-c55f-4fb2-ac55-b3a53b5ed07e",
   "metadata": {},
   "outputs": [
    {
     "name": "stdout",
     "output_type": "stream",
     "text": [
      "[0.05969231 0.20238462 0.049     ]\n"
     ]
    }
   ],
   "source": [
    "#테스트 세트에서 특성 중요도 계산하기\n",
    "\n",
    "result = permutation_importance(hgb, test_input, test_target,\n",
    "                                n_repeats=10, random_state=42, n_jobs=-1)\n",
    "print(result.importances_mean)"
   ]
  },
  {
   "cell_type": "code",
   "execution_count": 46,
   "id": "d05899f3-a5a2-4442-8852-20abaa3568e5",
   "metadata": {},
   "outputs": [
    {
     "data": {
      "text/plain": [
       "0.8723076923076923"
      ]
     },
     "execution_count": 46,
     "metadata": {},
     "output_type": "execute_result"
    }
   ],
   "source": [
    "#테스트 세트에서의 성능을 최종적으로 확인\n",
    "\n",
    "hgb.score(test_input, test_target)"
   ]
  },
  {
   "cell_type": "code",
   "execution_count": 50,
   "id": "10d098d3-cc2d-4a92-b122-7e45466e57ff",
   "metadata": {},
   "outputs": [
    {
     "name": "stdout",
     "output_type": "stream",
     "text": [
      "Collecting xgboost\n",
      "  Downloading xgboost-3.0.0-py3-none-macosx_12_0_arm64.whl.metadata (2.1 kB)\n",
      "Requirement already satisfied: numpy in /opt/anaconda3/lib/python3.12/site-packages (from xgboost) (1.26.4)\n",
      "Requirement already satisfied: scipy in /opt/anaconda3/lib/python3.12/site-packages (from xgboost) (1.13.1)\n",
      "Downloading xgboost-3.0.0-py3-none-macosx_12_0_arm64.whl (2.0 MB)\n",
      "\u001b[2K   \u001b[90m━━━━━━━━━━━━━━━━━━━━━━━━━━━━━━━━━━━━━━━━\u001b[0m \u001b[32m2.0/2.0 MB\u001b[0m \u001b[31m3.7 MB/s\u001b[0m eta \u001b[36m0:00:00\u001b[0ma \u001b[36m0:00:01\u001b[0m\n",
      "\u001b[?25hInstalling collected packages: xgboost\n",
      "Successfully installed xgboost-3.0.0\n",
      "0.9567059184812372 0.8783915747390243\n"
     ]
    }
   ],
   "source": [
    "#XGBoost 라이브러리도 그레디언트 부스팅 알고리즘을 구현하였다. 그 외에도 다양한 부스팅 알고리즘을 지원한다.\n",
    "!pip install xgboost\n",
    "from xgboost import XGBClassifier\n",
    "xgb = XGBClassifier(tree_method='hist', random_state=42) #히스토그램 기반 그레디언트 부스팅 알고리즘 사용\n",
    "scores = cross_validate(xgb, train_input, train_target,\n",
    "                        return_train_score=True)\n",
    "print(np.mean(scores['train_score']), np.mean(scores['test_score']))"
   ]
  },
  {
   "cell_type": "code",
   "execution_count": 54,
   "id": "f5dfa64f-c151-4dba-b2cc-8a76d0e7c2c0",
   "metadata": {},
   "outputs": [
    {
     "name": "stdout",
     "output_type": "stream",
     "text": [
      "Collecting lightgbm\n",
      "  Downloading lightgbm-4.6.0-py3-none-macosx_12_0_arm64.whl.metadata (17 kB)\n",
      "Requirement already satisfied: numpy>=1.17.0 in /opt/anaconda3/lib/python3.12/site-packages (from lightgbm) (1.26.4)\n",
      "Requirement already satisfied: scipy in /opt/anaconda3/lib/python3.12/site-packages (from lightgbm) (1.13.1)\n",
      "Downloading lightgbm-4.6.0-py3-none-macosx_12_0_arm64.whl (1.6 MB)\n",
      "\u001b[2K   \u001b[90m━━━━━━━━━━━━━━━━━━━━━━━━━━━━━━━━━━━━━━━━\u001b[0m \u001b[32m1.6/1.6 MB\u001b[0m \u001b[31m2.5 MB/s\u001b[0m eta \u001b[36m0:00:00\u001b[0ma \u001b[36m0:00:01\u001b[0m\n",
      "\u001b[?25hInstalling collected packages: lightgbm\n",
      "Successfully installed lightgbm-4.6.0\n",
      "0.935828414851749 0.8801251203079884\n"
     ]
    }
   ],
   "source": [
    "#LightGBM 라이브러리 사용\n",
    "!pip install lightgbm\n",
    "from lightgbm import LGBMClassifier\n",
    "lgb = LGBMClassifier(random_state=42)\n",
    "scores = cross_validate(lgb, train_input, train_target,\n",
    "                        return_train_score=True, n_jobs=-1)\n",
    "\n",
    "print(np.mean(scores['train_score']), np.mean(scores['test_score']))"
   ]
  }
 ],
 "metadata": {
  "kernelspec": {
   "display_name": "Python [conda env:base] *",
   "language": "python",
   "name": "conda-base-py"
  },
  "language_info": {
   "codemirror_mode": {
    "name": "ipython",
    "version": 3
   },
   "file_extension": ".py",
   "mimetype": "text/x-python",
   "name": "python",
   "nbconvert_exporter": "python",
   "pygments_lexer": "ipython3",
   "version": "3.12.7"
  }
 },
 "nbformat": 4,
 "nbformat_minor": 5
}
